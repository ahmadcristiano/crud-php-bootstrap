{
  "cells": [
    {
      "cell_type": "markdown",
      "metadata": {
        "id": "view-in-github",
        "colab_type": "text"
      },
      "source": [
        "<a href=\"https://colab.research.google.com/github/ahmadcristiano/crud-php-bootstrap/blob/main/Modul_Python_Dasar_List_Dict_If_Looping_Gabungan_1.ipynb\" target=\"_parent\"><img src=\"https://colab.research.google.com/assets/colab-badge.svg\" alt=\"Open In Colab\"/></a>"
      ]
    },
    {
      "cell_type": "markdown",
      "id": "5270e57e",
      "metadata": {
        "id": "5270e57e"
      },
      "source": [
        "# Modul Praktikum Python Dasar — List, Dictionary, If/Else, Looping\n",
        "**Disusun:** 28 September 2025\n",
        "\n",
        "Modul ini dirancang untuk mahasiswa semester awal. Materi disusun bertahap: konsep dasar → contoh → latihan → studi kasus gabungan.\n",
        "\n",
        "**Cakupan:**\n",
        "- Pengantar Python (variabel, tipe data, input/output)\n",
        "- Operasi dasar **list** dan **dictionary**\n",
        "- **If / elif / else** (logika percabangan)\n",
        "- **Looping**: `for` dan `while`, serta `break`, `continue`, `pass`\n",
        "- Studi kasus gabungan (mini-proyek)\n",
        "- Latihan mandiri dengan kunci jawaban terpisah"
      ]
    },
    {
      "cell_type": "markdown",
      "id": "5eb1475e",
      "metadata": {
        "id": "5eb1475e"
      },
      "source": [
        "## 0. Persiapan Singkat\n",
        "Jalankan sel di bawah ini untuk memastikan versi Python dan beberapa utilitas siap."
      ]
    },
    {
      "cell_type": "code",
      "execution_count": null,
      "id": "a9b5c8f0",
      "metadata": {
        "id": "a9b5c8f0"
      },
      "outputs": [],
      "source": [
        "import sys, platform\n",
        "print(\"Python:\", sys.version.split()[0])\n",
        "print(\"Platform:\", platform.platform())"
      ]
    },
    {
      "cell_type": "markdown",
      "id": "3c5e3d27",
      "metadata": {
        "id": "3c5e3d27"
      },
      "source": [
        "## 1. Pengantar Python\n",
        "### 1.1 Variabel & Tipe Data Dasar\n",
        "Variabel menyimpan nilai. Tidak perlu deklarasi tipe secara eksplisit.\n",
        "\n",
        "**Tipe data dasar yang umum:**\n",
        "- `int` (bilangan bulat)\n",
        "- `float` (bilangan desimal)\n",
        "- `str` (teks)\n",
        "- `bool` (logika: `True`/`False`)\n"
      ]
    },
    {
      "cell_type": "code",
      "execution_count": null,
      "id": "1282da1e",
      "metadata": {
        "id": "1282da1e"
      },
      "outputs": [],
      "source": [
        "# contoh variabel dan tipe\n",
        "a = 10          # int\n",
        "b = 3.14        # float\n",
        "c = \"Halo\"      # str\n",
        "d = True        # bool\n",
        "\n",
        "print(type(a), a)\n",
        "print(type(b), b)\n",
        "print(type(c), c)\n",
        "print(type(d), d)"
      ]
    },
    {
      "cell_type": "markdown",
      "id": "dd60e444",
      "metadata": {
        "id": "dd60e444"
      },
      "source": [
        "### 1.2 Operator Dasar\n",
        "Operator aritmetika: `+`, `-`, `*`, `/`, `//` (bagi bulat), `%` (modulo), `**` (pangkat)\n",
        "\n",
        "Operator perbandingan: `==`, `!=`, `>`, `<`, `>=`, `<=`\n",
        "\n",
        "Operator logika: `and`, `or`, `not`"
      ]
    },
    {
      "cell_type": "code",
      "execution_count": null,
      "id": "d2f49d05",
      "metadata": {
        "id": "d2f49d05"
      },
      "outputs": [],
      "source": [
        "x, y = 7, 3\n",
        "print(\"x + y =\", x + y)\n",
        "print(\"x // y =\", x // y)\n",
        "print(\"x % y =\", x % y)\n",
        "print(\"x ** y =\", x ** y)\n",
        "print(\"x > y ?\", x > y)\n",
        "print(\"x == 7 and y < 5 ?\", x == 7 and y < 5)"
      ]
    },
    {
      "cell_type": "markdown",
      "id": "bdfcd207",
      "metadata": {
        "id": "bdfcd207"
      },
      "source": [
        "### 1.3 Input & Output\n",
        "Fungsi `input()` membaca teks dari pengguna (tipe awalnya `str`). Gunakan konversi tipe bila perlu."
      ]
    },
    {
      "cell_type": "code",
      "execution_count": null,
      "id": "276e1e4b",
      "metadata": {
        "id": "276e1e4b"
      },
      "outputs": [],
      "source": [
        "# Contoh: IO sederhana (jalankan dan masukkan sebuah angka)\n",
        "# catatan: jika modul ini dijalankan non-interaktif, Anda bisa langsung set nilai manual.\n",
        "try:\n",
        "    nama = input(\"Masukkan nama: \")\n",
        "    umur = int(input(\"Masukkan umur: \"))\n",
        "    print(f\"Halo {nama}, tahun depan umur kamu {umur + 1} tahun.\")\n",
        "except Exception as e:\n",
        "    print(\"Mode non-interaktif atau input tidak valid. Contoh manual dipakai.\")\n",
        "    nama, umur = \"Ana\", 18\n",
        "    print(f\"Halo {nama}, tahun depan umur kamu {umur + 1} tahun.\")"
      ]
    },
    {
      "cell_type": "markdown",
      "id": "43fb47e2",
      "metadata": {
        "id": "43fb47e2"
      },
      "source": [
        "## 2. List (Daftar)\n",
        "List adalah koleksi berurut yang dapat diubah (mutable). Cocok untuk menyimpan kumpulan nilai."
      ]
    },
    {
      "cell_type": "code",
      "execution_count": null,
      "id": "6018f4ba",
      "metadata": {
        "id": "6018f4ba"
      },
      "outputs": [],
      "source": [
        "kosong = []\n",
        "angka = [1, 2, 3, 4, 5]\n",
        "campur = [1, \"dua\", 3.0, True]\n",
        "\n",
        "kosong, angka, campur"
      ]
    },
    {
      "cell_type": "markdown",
      "id": "2accd097",
      "metadata": {
        "id": "2accd097"
      },
      "source": [
        "### 2.1 Membuat List, Indexing, Slicing"
      ]
    },
    {
      "cell_type": "markdown",
      "id": "67f61e82",
      "metadata": {
        "id": "67f61e82"
      },
      "source": [
        "- Indexing dimulai dari 0 (kanan ke kiri bisa dengan index negatif).\n",
        "- Slicing: `list[start:stop:step]`.\n",
        "- Indeks **positif** mulai dari 0 (kiri ke kanan)\n",
        "- Indeks **negatif** mulai dari -1 (kanan ke kiri)"
      ]
    },
    {
      "cell_type": "code",
      "execution_count": null,
      "id": "76aab7a6",
      "metadata": {
        "id": "76aab7a6"
      },
      "outputs": [],
      "source": [
        "angka = [5, 2, 9, 1, 5, 6]\n",
        "buah = [\"apel\", \"jeruk\", \"pisang\"]\n",
        "\n",
        "print(\"angka[0]  :\", angka[0])      # elemen pertama\n",
        "print(\"angka[-1] :\", angka[-1])     # elemen terakhir\n",
        "print(\"angka[1:4]:\", angka[1:4])    # slicing index 1..3"
      ]
    },
    {
      "cell_type": "code",
      "execution_count": null,
      "id": "be493889",
      "metadata": {
        "id": "be493889"
      },
      "outputs": [],
      "source": [
        "L = [\"apel\", \"pisang\", \"jeruk\", \"mangga\", \"salak\"]\n",
        "# Positif\n",
        "print(\"L[0] =\", L[0])\n",
        "print(\"L[2] =\", L[2])\n",
        "# Negatif\n",
        "print(\"L[-1] =\", L[-1])  # elemen terakhir\n",
        "print(\"L[-3] =\", L[-3])  # elemen ke-3 dari belakang"
      ]
    },
    {
      "cell_type": "code",
      "execution_count": null,
      "id": "a6ee4b95",
      "metadata": {
        "id": "a6ee4b95"
      },
      "outputs": [],
      "source": [
        "L = [\"apel\", \"pisang\", \"jeruk\", \"mangga\", \"salak\", \"durian\"]\n",
        "print(\"L =\", L)\n",
        "print(\"L[0:3] =\", L[0:3])\n",
        "print(\"L[0:4] =\", L[0:4])\n",
        "print(\"L[1:3] =\", L[1:3])\n",
        "print(\"L[1:4] =\", L[1:4])\n",
        "print(\"L[4:5] =\", L[4:5])\n",
        "\n",
        "print(\"--------------\")\n",
        "print(\"L=\", L)\n",
        "print(\"L[0:3:1] =\", L[0:3:1])\n",
        "print(\"L[0:3:2] =\", L[0:3:2])\n",
        "print(\"L[0:5:2] =\", L[0:5:2])\n",
        "print(\"L[0:4:3] =\", L[0:4:3])\n",
        "print(\"L[0:4:2] =\", L[0:4:2])\n",
        "\n",
        "\n",
        "print(\"--------------\")\n",
        "print(\"L=\", L)\n",
        "print(\"L[-1] =\",    L[-1])\n",
        "print(\"L[-2] =\",    L[-2])\n",
        "print(\"L[-3] =\",    L[-3])\n",
        "print(\"L[-4] =\",    L[-4])\n",
        "\n",
        "\n",
        "print(\"--------------\")\n",
        "print(\"L=\", L)\n",
        "print(\"L[-1:-5:-1] =\",    L[-1:-5:-1])\n",
        "print(\"L[-2:-4:-1] =\",    L[-2:-4:-1])\n",
        "print(\"L[-3:-4:-1] =\",    L[-3:-4:-1])\n",
        "print(\"L[-3:-4:1] =\",    L[-3:-4:1])\n",
        "\n",
        "\n",
        "print(\"--------------\")\n",
        "print(\"L=\", L)\n",
        "print(\"L[-1:-5:1] =\",    L[-1:-5:1])\n",
        "print(\"L[-2:-4:1] =\",    L[-2:-4:1])\n",
        "print(\"L[-3:-4:1] =\",    L[-3:-4:1])\n"
      ]
    },
    {
      "cell_type": "markdown",
      "id": "dff6a41d",
      "metadata": {
        "id": "dff6a41d"
      },
      "source": [
        "### 2.2 Operasi Umum pada List"
      ]
    },
    {
      "cell_type": "code",
      "execution_count": null,
      "id": "cd485afd",
      "metadata": {
        "id": "cd485afd",
        "outputId": "394c99c1-def2-49b8-9116-3c25b6ca56e6"
      },
      "outputs": [
        {
          "name": "stdout",
          "output_type": "stream",
          "text": [
            "setelah operasi: [99, 9, 1, 5, 6, 10, 'melon']\n",
            "elemen terakhir (pop): anggur\n",
            "panjang list: 7\n",
            "sort: [1, 2, 5, 5, 6, 9]\n",
            "reverse: [9, 6, 5, 5, 2, 1]\n"
          ]
        },
        {
          "data": {
            "text/plain": [
              "(['apel', 'pisang'],\n",
              " ['apel', 'pisang'],\n",
              " ['apel', 'pisang'],\n",
              " ['apel', 'pisang', 'mangga', 'jeruk'])"
            ]
          },
          "execution_count": 3,
          "metadata": {},
          "output_type": "execute_result"
        }
      ],
      "source": [
        "angka = [5, 2, 9, 1, 5, 6]\n",
        "angka.append(10)        # tambah di akhir\n",
        "angka.insert(2, 99)     # sisip di index 2\n",
        "angka.extend([\"melon\", \"anggur\"])  # tambah banyak sekaligus\n",
        "angka.remove(5)         # hapus nilai pertama yang == 5\n",
        "del angka[0]       # hapus index tertentu\n",
        "terakhir = angka.pop()  # ambil & hapus elemen terakhir\n",
        "\n",
        "print(\"setelah operasi:\", angka)\n",
        "print(\"elemen terakhir (pop):\", terakhir)\n",
        "print(\"panjang list:\", len(angka))\n",
        "\n",
        "# sorting & reverse\n",
        "angka = [5, 2, 9, 1, 5, 6]\n",
        "angka.sort()            # urut menaik\n",
        "print(\"sort:\", angka)\n",
        "angka.reverse()         # balik urutan\n",
        "print(\"reverse:\", angka)\n",
        "\n",
        "\n",
        "# Mengubah Elemen\n",
        "warna = [\"merah\", \"hijau\", \"biru\"]\n",
        "warna[0] = \"ungu\"   # ubah elemen pertama\n",
        "warna[1:3] = [\"kuning\", \"hitam\"]  # ubah range\n",
        "\n",
        "#Menyalin & Menggabungkan List\n",
        "buah1 = [\"apel\", \"pisang\"]\n",
        "buah2 = buah1.copy()       # salin\n",
        "buah3 = list(buah1)        # salin cara lain\n",
        "gabung = buah1 + [\"mangga\", \"jeruk\"]\n",
        "buah1, buah2, buah3, gabung"
      ]
    },
    {
      "cell_type": "markdown",
      "id": "3215bd47",
      "metadata": {
        "id": "3215bd47"
      },
      "source": [
        "### 2.3 Fungsi Built-in pada List"
      ]
    },
    {
      "cell_type": "code",
      "execution_count": null,
      "id": "5c466b2d",
      "metadata": {
        "id": "5c466b2d"
      },
      "outputs": [],
      "source": [
        "angka = [3, 7, 2, 9, 5]\n",
        "print(\"len   :\", len(angka))\n",
        "print(\"min   :\", min(angka))\n",
        "print(\"max   :\", max(angka))\n",
        "print(\"sum   :\", sum(angka))\n",
        "print(\"sorted:\", sorted(angka))"
      ]
    },
    {
      "cell_type": "markdown",
      "id": "16a31663",
      "metadata": {
        "id": "16a31663"
      },
      "source": [
        "### 2.4 Metode Penting Lain\n",
        "- `count(x)`: menghitung jumlah kemunculan\n",
        "- `index(x)`: mencari posisi elemen\n",
        "- `reverse()`: membalik urutan\n",
        "- `sort()`: mengurutkan"
      ]
    },
    {
      "cell_type": "code",
      "execution_count": null,
      "id": "e5ccf12d",
      "metadata": {
        "id": "e5ccf12d"
      },
      "outputs": [],
      "source": [
        "angka = [2, 5, 2, 8, 1, 5]\n",
        "print(\"count 2:\", angka.count(2))\n",
        "print(\"index 8:\", angka.index(8))\n",
        "\n",
        "angka.reverse()\n",
        "print(\"reverse :\", angka)\n",
        "\n",
        "angka.sort()\n",
        "print(\"sort    :\", angka)"
      ]
    },
    {
      "cell_type": "markdown",
      "id": "8206266e",
      "metadata": {
        "id": "8206266e"
      },
      "source": [
        "### 2.5 Nested List (List di dalam List)\n",
        "List bisa berisi list lain (mirip matriks)."
      ]
    },
    {
      "cell_type": "code",
      "execution_count": null,
      "id": "5871109f",
      "metadata": {
        "id": "5871109f"
      },
      "outputs": [],
      "source": [
        "nested = [[1, 2], [3, 4], [5, 6]]\n",
        "print(nested[0])      # [1, 2]\n",
        "print(nested[1][1])   # 4"
      ]
    },
    {
      "cell_type": "markdown",
      "id": "b5a40028",
      "metadata": {
        "id": "b5a40028"
      },
      "source": [
        "### 2.3 Iterasi List dengan `for`"
      ]
    },
    {
      "cell_type": "code",
      "execution_count": null,
      "id": "705e8c3f",
      "metadata": {
        "id": "705e8c3f"
      },
      "outputs": [],
      "source": [
        "buah = [\"apel\", \"jeruk\", \"pisang\"]\n",
        "for item in buah:\n",
        "    print(\"saya suka\", item)"
      ]
    },
    {
      "cell_type": "markdown",
      "id": "e2900ed3",
      "metadata": {
        "id": "e2900ed3"
      },
      "source": [
        "### 2.4 List Comprehension"
      ]
    },
    {
      "cell_type": "code",
      "execution_count": null,
      "id": "73ad886a",
      "metadata": {
        "id": "73ad886a"
      },
      "outputs": [],
      "source": [
        "# bentuk ringkas untuk membuat list baru\n",
        "kuadrat_genap = [n*n for n in range(10) if n % 2 == 0]\n",
        "kuadrat_genap"
      ]
    },
    {
      "cell_type": "markdown",
      "id": "620fc807",
      "metadata": {
        "id": "620fc807"
      },
      "source": [
        "### 2.5 Latihan — List\n",
        "**Tugas:**\n",
        "1) Diberikan list nilai, hitung rata-rata, nilai maksimum, dan minimum **tanpa** fungsi `sum()`/`min()`/`max()`.\n",
        "2) Urutkan nilai dari besar ke kecil.\n",
        "3) Tampilkan hanya nilai yang ≥ rata-rata."
      ]
    },
    {
      "cell_type": "code",
      "execution_count": null,
      "id": "683f83a3",
      "metadata": {
        "id": "683f83a3"
      },
      "outputs": [],
      "source": [
        "# TODO: Kerjakan latihan list di sini\n",
        "nilai = [70, 85, 60, 90, 75, 80]\n",
        "# tulis solusi Anda..."
      ]
    },
    {
      "cell_type": "code",
      "execution_count": null,
      "id": "3947e8f3",
      "metadata": {
        "id": "3947e8f3",
        "outputId": "2599a96c-3e53-44c2-b152-9d68188b64f7"
      },
      "outputs": [
        {
          "name": "stdout",
          "output_type": "stream",
          "text": [
            "Rata-rata: 76.66666666666667\n",
            "Maksimum: 90\n",
            "Minimum: 60\n",
            "nilai sebelum berubah adalah [70, 85, 60, 90, 75, 80]\n",
            "nilai sebelum berubah adalah [70, 85, 60, 90, 75, 80]\n",
            "i = 0, j = 1, nilai[i] = 70 |  nilai[j] = 85\n",
            "nilai sekarang setelah berubah adalah [85, 70, 60, 90, 75, 80]\n",
            "nilai sebelum berubah adalah [85, 70, 60, 90, 75, 80]\n",
            "nilai sebelum berubah adalah [85, 70, 60, 90, 75, 80]\n",
            "i = 0, j = 3, nilai[i] = 85 |  nilai[j] = 90\n",
            "nilai sekarang setelah berubah adalah [90, 70, 60, 85, 75, 80]\n",
            "nilai sebelum berubah adalah [90, 70, 60, 85, 75, 80]\n",
            "nilai sebelum berubah adalah [90, 70, 60, 85, 75, 80]\n",
            "nilai sebelum berubah adalah [90, 70, 60, 85, 75, 80]\n",
            "i = 1, j = 0, nilai[i] = 70 |  nilai[j] = 90\n",
            "nilai sekarang setelah berubah adalah [70, 90, 60, 85, 75, 80]\n",
            "nilai sebelum berubah adalah [70, 90, 60, 85, 75, 80]\n",
            "nilai sebelum berubah adalah [70, 90, 60, 85, 75, 80]\n",
            "nilai sebelum berubah adalah [70, 90, 60, 85, 75, 80]\n",
            "nilai sebelum berubah adalah [70, 90, 60, 85, 75, 80]\n",
            "nilai sebelum berubah adalah [70, 90, 60, 85, 75, 80]\n",
            "nilai sebelum berubah adalah [70, 90, 60, 85, 75, 80]\n",
            "i = 2, j = 0, nilai[i] = 60 |  nilai[j] = 70\n",
            "nilai sekarang setelah berubah adalah [60, 90, 70, 85, 75, 80]\n",
            "nilai sebelum berubah adalah [60, 90, 70, 85, 75, 80]\n",
            "i = 2, j = 1, nilai[i] = 70 |  nilai[j] = 90\n",
            "nilai sekarang setelah berubah adalah [60, 70, 90, 85, 75, 80]\n",
            "nilai sebelum berubah adalah [60, 70, 90, 85, 75, 80]\n",
            "nilai sebelum berubah adalah [60, 70, 90, 85, 75, 80]\n",
            "nilai sebelum berubah adalah [60, 70, 90, 85, 75, 80]\n",
            "nilai sebelum berubah adalah [60, 70, 90, 85, 75, 80]\n",
            "nilai sebelum berubah adalah [60, 70, 90, 85, 75, 80]\n",
            "nilai sebelum berubah adalah [60, 70, 90, 85, 75, 80]\n",
            "nilai sebelum berubah adalah [60, 70, 90, 85, 75, 80]\n",
            "i = 3, j = 2, nilai[i] = 85 |  nilai[j] = 90\n",
            "nilai sekarang setelah berubah adalah [60, 70, 85, 90, 75, 80]\n",
            "nilai sebelum berubah adalah [60, 70, 85, 90, 75, 80]\n",
            "nilai sebelum berubah adalah [60, 70, 85, 90, 75, 80]\n",
            "nilai sebelum berubah adalah [60, 70, 85, 90, 75, 80]\n",
            "nilai sebelum berubah adalah [60, 70, 85, 90, 75, 80]\n",
            "nilai sebelum berubah adalah [60, 70, 85, 90, 75, 80]\n",
            "nilai sebelum berubah adalah [60, 70, 85, 90, 75, 80]\n",
            "i = 4, j = 2, nilai[i] = 75 |  nilai[j] = 85\n",
            "nilai sekarang setelah berubah adalah [60, 70, 75, 90, 85, 80]\n",
            "nilai sebelum berubah adalah [60, 70, 75, 90, 85, 80]\n",
            "i = 4, j = 3, nilai[i] = 85 |  nilai[j] = 90\n",
            "nilai sekarang setelah berubah adalah [60, 70, 75, 85, 90, 80]\n",
            "nilai sebelum berubah adalah [60, 70, 75, 85, 90, 80]\n",
            "nilai sebelum berubah adalah [60, 70, 75, 85, 90, 80]\n",
            "nilai sebelum berubah adalah [60, 70, 75, 85, 90, 80]\n",
            "nilai sebelum berubah adalah [60, 70, 75, 85, 90, 80]\n",
            "nilai sebelum berubah adalah [60, 70, 75, 85, 90, 80]\n",
            "nilai sebelum berubah adalah [60, 70, 75, 85, 90, 80]\n",
            "i = 5, j = 3, nilai[i] = 80 |  nilai[j] = 85\n",
            "nilai sekarang setelah berubah adalah [60, 70, 75, 80, 90, 85]\n",
            "nilai sebelum berubah adalah [60, 70, 75, 80, 90, 85]\n",
            "i = 5, j = 4, nilai[i] = 85 |  nilai[j] = 90\n",
            "nilai sekarang setelah berubah adalah [60, 70, 75, 80, 85, 90]\n",
            "nilai sebelum berubah adalah [60, 70, 75, 80, 85, 90]\n",
            "Urutkan (besar ke kecil tipe 3): [60, 70, 75, 80, 85, 90]\n",
            "Nilai ≥ rata-rata: [80, 85, 90]\n"
          ]
        }
      ],
      "source": [
        "nilai = [70, 85, 60, 90, 75, 80]\n",
        "\n",
        "# 1) Hitung rata-rata, maksimum, dan minimum tanpa sum/min/max\n",
        "total = 0\n",
        "maks = nilai[0]\n",
        "mins = nilai[0]\n",
        "\n",
        "for n in nilai:\n",
        "    total += n\n",
        "    if n > maks:\n",
        "        maks = n\n",
        "    if n < mins:\n",
        "        mins = n\n",
        "\n",
        "rata2 = total / len(nilai)\n",
        "\n",
        "print(\"Rata-rata:\", rata2)\n",
        "print(\"Maksimum:\", maks)\n",
        "print(\"Minimum:\", mins)\n",
        "\n",
        "\n",
        "# 2) Urutkan dari besar ke kecil (manual bubble sort misalnya)\n",
        "nilai = [70, 85, 60, 90, 75, 80]\n",
        "for i in range(len(nilai)):\n",
        "    for j in range(i+1, len(nilai)):\n",
        "        #print(f\"nilai sebelum berubah adalah {nilai}\")\n",
        "        if nilai[i] < nilai[j]:   # tukar supaya descending\n",
        "            #print(f\"i = {i}, j = {j}, nilai[i] = {nilai[i]} |  nilai[j] = {nilai[j]}\")\n",
        "            nilai[i], nilai[j] = nilai[j], nilai[i]\n",
        "            #print(f\"nilai sekarang setelah berubah adalah {nilai}\")\n",
        "\n",
        "print(\"Urutkan (besar ke kecil tipe 1):\", nilai)\n",
        "\n",
        "print()\n",
        "\n",
        "nilai = [70, 85, 60, 90, 75, 80]\n",
        "for i in range(len(nilai)):\n",
        "    for j in range(i, len(nilai)):\n",
        "        print(f\"nilai sebelum berubah adalah {nilai}\")\n",
        "        if nilai[i] < nilai[j]:   # tukar supaya descending\n",
        "            print(f\"i = {i}, j = {j}, nilai[i] = {nilai[i]} |  nilai[j] = {nilai[j]}\")\n",
        "            nilai[i], nilai[j] = nilai[j], nilai[i]\n",
        "            print(f\"nilai sekarang setelah berubah adalah {nilai}\")\n",
        "\n",
        "print(\"Urutkan (besar ke kecil tipe 2):\", nilai)\n",
        "\n",
        "print()\n",
        "\n",
        "nilai = [70, 85, 60, 90, 75, 80]\n",
        "for i in range(len(nilai)):\n",
        "    for j in range(len(nilai)):\n",
        "        print(f\"nilai sebelum berubah adalah {nilai}\")\n",
        "        if nilai[i] < nilai[j]:   # tukar supaya descending\n",
        "            print(f\"i = {i}, j = {j}, nilai[i] = {nilai[i]} |  nilai[j] = {nilai[j]}\")\n",
        "            nilai[i], nilai[j] = nilai[j], nilai[i]\n",
        "            print(f\"nilai sekarang setelah berubah adalah {nilai}\")\n",
        "\n",
        "print(\"Urutkan (besar ke kecil tipe 3):\", nilai)\n",
        "\n",
        "\n",
        "# 3) Tampilkan hanya nilai yang >= rata-rata\n",
        "diatas_rata = []\n",
        "for n in nilai:\n",
        "    if n >= rata2:\n",
        "        diatas_rata.append(n)\n",
        "\n",
        "print(\"Nilai ≥ rata-rata:\", diatas_rata)\n"
      ]
    },
    {
      "cell_type": "code",
      "execution_count": null,
      "id": "5557b72b",
      "metadata": {
        "id": "5557b72b",
        "outputId": "b3103a0e-12ad-474a-9302-0d052771e8a0"
      },
      "outputs": [
        {
          "name": "stdout",
          "output_type": "stream",
          "text": [
            "nilai sebelum berubah adalah [70, 85, 60, 90, 75, 80]\n",
            "\n",
            "i = 0, j = 0, nilai[i] = 70 |  nilai[j] = 70\n",
            "TIDAK BERUBAH\n",
            "\n",
            "nilai sebelum berubah adalah [70, 85, 60, 90, 75, 80]\n",
            "\n",
            "i = 0, j = 1, nilai[i] = 70 |  nilai[j] = 85\n",
            "BERUBAH\n",
            "nilai sekarang setelah berubah adalah [85, 70, 60, 90, 75, 80]\n",
            "\n",
            "nilai sebelum berubah adalah [85, 70, 60, 90, 75, 80]\n",
            "\n",
            "i = 0, j = 2, nilai[i] = 85 |  nilai[j] = 60\n",
            "TIDAK BERUBAH\n",
            "\n",
            "nilai sebelum berubah adalah [85, 70, 60, 90, 75, 80]\n",
            "\n",
            "i = 0, j = 3, nilai[i] = 85 |  nilai[j] = 90\n",
            "BERUBAH\n",
            "nilai sekarang setelah berubah adalah [90, 70, 60, 85, 75, 80]\n",
            "\n",
            "nilai sebelum berubah adalah [90, 70, 60, 85, 75, 80]\n",
            "\n",
            "i = 0, j = 4, nilai[i] = 90 |  nilai[j] = 75\n",
            "TIDAK BERUBAH\n",
            "\n",
            "nilai sebelum berubah adalah [90, 70, 60, 85, 75, 80]\n",
            "\n",
            "i = 0, j = 5, nilai[i] = 90 |  nilai[j] = 80\n",
            "TIDAK BERUBAH\n",
            "\n",
            "nilai sebelum berubah adalah [90, 70, 60, 85, 75, 80]\n",
            "\n",
            "i = 1, j = 0, nilai[i] = 70 |  nilai[j] = 90\n",
            "BERUBAH\n",
            "nilai sekarang setelah berubah adalah [70, 90, 60, 85, 75, 80]\n",
            "\n",
            "nilai sebelum berubah adalah [70, 90, 60, 85, 75, 80]\n",
            "\n",
            "i = 1, j = 1, nilai[i] = 90 |  nilai[j] = 90\n",
            "TIDAK BERUBAH\n",
            "\n",
            "nilai sebelum berubah adalah [70, 90, 60, 85, 75, 80]\n",
            "\n",
            "i = 1, j = 2, nilai[i] = 90 |  nilai[j] = 60\n",
            "TIDAK BERUBAH\n",
            "\n",
            "nilai sebelum berubah adalah [70, 90, 60, 85, 75, 80]\n",
            "\n",
            "i = 1, j = 3, nilai[i] = 90 |  nilai[j] = 85\n",
            "TIDAK BERUBAH\n",
            "\n",
            "nilai sebelum berubah adalah [70, 90, 60, 85, 75, 80]\n",
            "\n",
            "i = 1, j = 4, nilai[i] = 90 |  nilai[j] = 75\n",
            "TIDAK BERUBAH\n",
            "\n",
            "nilai sebelum berubah adalah [70, 90, 60, 85, 75, 80]\n",
            "\n",
            "i = 1, j = 5, nilai[i] = 90 |  nilai[j] = 80\n",
            "TIDAK BERUBAH\n",
            "\n",
            "nilai sebelum berubah adalah [70, 90, 60, 85, 75, 80]\n",
            "\n",
            "i = 2, j = 0, nilai[i] = 60 |  nilai[j] = 70\n",
            "BERUBAH\n",
            "nilai sekarang setelah berubah adalah [60, 90, 70, 85, 75, 80]\n",
            "\n",
            "nilai sebelum berubah adalah [60, 90, 70, 85, 75, 80]\n",
            "\n",
            "i = 2, j = 1, nilai[i] = 70 |  nilai[j] = 90\n",
            "BERUBAH\n",
            "nilai sekarang setelah berubah adalah [60, 70, 90, 85, 75, 80]\n",
            "\n",
            "nilai sebelum berubah adalah [60, 70, 90, 85, 75, 80]\n",
            "\n",
            "i = 2, j = 2, nilai[i] = 90 |  nilai[j] = 90\n",
            "TIDAK BERUBAH\n",
            "\n",
            "nilai sebelum berubah adalah [60, 70, 90, 85, 75, 80]\n",
            "\n",
            "i = 2, j = 3, nilai[i] = 90 |  nilai[j] = 85\n",
            "TIDAK BERUBAH\n",
            "\n",
            "nilai sebelum berubah adalah [60, 70, 90, 85, 75, 80]\n",
            "\n",
            "i = 2, j = 4, nilai[i] = 90 |  nilai[j] = 75\n",
            "TIDAK BERUBAH\n",
            "\n",
            "nilai sebelum berubah adalah [60, 70, 90, 85, 75, 80]\n",
            "\n",
            "i = 2, j = 5, nilai[i] = 90 |  nilai[j] = 80\n",
            "TIDAK BERUBAH\n",
            "\n",
            "nilai sebelum berubah adalah [60, 70, 90, 85, 75, 80]\n",
            "\n",
            "i = 3, j = 0, nilai[i] = 85 |  nilai[j] = 60\n",
            "TIDAK BERUBAH\n",
            "\n",
            "nilai sebelum berubah adalah [60, 70, 90, 85, 75, 80]\n",
            "\n",
            "i = 3, j = 1, nilai[i] = 85 |  nilai[j] = 70\n",
            "TIDAK BERUBAH\n",
            "\n",
            "nilai sebelum berubah adalah [60, 70, 90, 85, 75, 80]\n",
            "\n",
            "i = 3, j = 2, nilai[i] = 85 |  nilai[j] = 90\n",
            "BERUBAH\n",
            "nilai sekarang setelah berubah adalah [60, 70, 85, 90, 75, 80]\n",
            "\n",
            "nilai sebelum berubah adalah [60, 70, 85, 90, 75, 80]\n",
            "\n",
            "i = 3, j = 3, nilai[i] = 90 |  nilai[j] = 90\n",
            "TIDAK BERUBAH\n",
            "\n",
            "nilai sebelum berubah adalah [60, 70, 85, 90, 75, 80]\n",
            "\n",
            "i = 3, j = 4, nilai[i] = 90 |  nilai[j] = 75\n",
            "TIDAK BERUBAH\n",
            "\n",
            "nilai sebelum berubah adalah [60, 70, 85, 90, 75, 80]\n",
            "\n",
            "i = 3, j = 5, nilai[i] = 90 |  nilai[j] = 80\n",
            "TIDAK BERUBAH\n",
            "\n",
            "nilai sebelum berubah adalah [60, 70, 85, 90, 75, 80]\n",
            "\n",
            "i = 4, j = 0, nilai[i] = 75 |  nilai[j] = 60\n",
            "TIDAK BERUBAH\n",
            "\n",
            "nilai sebelum berubah adalah [60, 70, 85, 90, 75, 80]\n",
            "\n",
            "i = 4, j = 1, nilai[i] = 75 |  nilai[j] = 70\n",
            "TIDAK BERUBAH\n",
            "\n",
            "nilai sebelum berubah adalah [60, 70, 85, 90, 75, 80]\n",
            "\n",
            "i = 4, j = 2, nilai[i] = 75 |  nilai[j] = 85\n",
            "BERUBAH\n",
            "nilai sekarang setelah berubah adalah [60, 70, 75, 90, 85, 80]\n",
            "\n",
            "nilai sebelum berubah adalah [60, 70, 75, 90, 85, 80]\n",
            "\n",
            "i = 4, j = 3, nilai[i] = 85 |  nilai[j] = 90\n",
            "BERUBAH\n",
            "nilai sekarang setelah berubah adalah [60, 70, 75, 85, 90, 80]\n",
            "\n",
            "nilai sebelum berubah adalah [60, 70, 75, 85, 90, 80]\n",
            "\n",
            "i = 4, j = 4, nilai[i] = 90 |  nilai[j] = 90\n",
            "TIDAK BERUBAH\n",
            "\n",
            "nilai sebelum berubah adalah [60, 70, 75, 85, 90, 80]\n",
            "\n",
            "i = 4, j = 5, nilai[i] = 90 |  nilai[j] = 80\n",
            "TIDAK BERUBAH\n",
            "\n",
            "nilai sebelum berubah adalah [60, 70, 75, 85, 90, 80]\n",
            "\n",
            "i = 5, j = 0, nilai[i] = 80 |  nilai[j] = 60\n",
            "TIDAK BERUBAH\n",
            "\n",
            "nilai sebelum berubah adalah [60, 70, 75, 85, 90, 80]\n",
            "\n",
            "i = 5, j = 1, nilai[i] = 80 |  nilai[j] = 70\n",
            "TIDAK BERUBAH\n",
            "\n",
            "nilai sebelum berubah adalah [60, 70, 75, 85, 90, 80]\n",
            "\n",
            "i = 5, j = 2, nilai[i] = 80 |  nilai[j] = 75\n",
            "TIDAK BERUBAH\n",
            "\n",
            "nilai sebelum berubah adalah [60, 70, 75, 85, 90, 80]\n",
            "\n",
            "i = 5, j = 3, nilai[i] = 80 |  nilai[j] = 85\n",
            "BERUBAH\n",
            "nilai sekarang setelah berubah adalah [60, 70, 75, 80, 90, 85]\n",
            "\n",
            "nilai sebelum berubah adalah [60, 70, 75, 80, 90, 85]\n",
            "\n",
            "i = 5, j = 4, nilai[i] = 85 |  nilai[j] = 90\n",
            "BERUBAH\n",
            "nilai sekarang setelah berubah adalah [60, 70, 75, 80, 85, 90]\n",
            "\n",
            "nilai sebelum berubah adalah [60, 70, 75, 80, 85, 90]\n",
            "\n",
            "i = 5, j = 5, nilai[i] = 90 |  nilai[j] = 90\n",
            "TIDAK BERUBAH\n",
            "\n",
            "Urutkan (besar ke kecil tipe 1): [60, 70, 75, 80, 85, 90]\n"
          ]
        }
      ],
      "source": [
        "nilai = [70, 85, 60, 90, 75, 80]\n",
        "for i in range(len(nilai)):\n",
        "    for j in range(len(nilai)):\n",
        "        print(f\"nilai sebelum berubah adalah {nilai}\")\n",
        "        print()\n",
        "        if nilai[i] < nilai[j]:   # tukar supaya descending\n",
        "            print(f\"i = {i}, j = {j}, nilai[i] = {nilai[i]} |  nilai[j] = {nilai[j]}\")\n",
        "            print(\"BERUBAH\")\n",
        "            nilai[i], nilai[j] = nilai[j], nilai[i]\n",
        "            print(f\"nilai sekarang setelah berubah adalah {nilai}\")\n",
        "            print()\n",
        "        else:\n",
        "            print(f\"i = {i}, j = {j}, nilai[i] = {nilai[i]} |  nilai[j] = {nilai[j]}\")\n",
        "            print(\"TIDAK BERUBAH\")\n",
        "            print()\n",
        "\n",
        "\n",
        "print(\"Urutkan (besar ke kecil tipe 1):\", nilai)"
      ]
    },
    {
      "cell_type": "markdown",
      "id": "accbd78d",
      "metadata": {
        "id": "accbd78d"
      },
      "source": [
        "## 3. Dictionary (Peta/Asosiasi Kunci→Nilai)\n",
        "Dictionary menyimpan pasangan `key: value`. Kunci harus hashable (umumnya `str`, `int`)."
      ]
    },
    {
      "cell_type": "markdown",
      "id": "0c651c06",
      "metadata": {
        "id": "0c651c06"
      },
      "source": [
        "### 3.1 Membuat dan Mengakses Dictionary"
      ]
    },
    {
      "cell_type": "code",
      "execution_count": null,
      "id": "7525ce09",
      "metadata": {
        "id": "7525ce09",
        "outputId": "08f79ec6-0bf2-464a-e4d4-09a2a867a081"
      },
      "outputs": [
        {
          "name": "stdout",
          "output_type": "stream",
          "text": [
            "Budi\n",
            "[]\n",
            "90\n"
          ]
        }
      ],
      "source": [
        "mhs = {\n",
        "    \"nama\": \"Budi\",\n",
        "    \"nim\": \"A11.2025.001\",\n",
        "    \"prodi\": \"Informatika\",\n",
        "    \"ipk\": 3.5,\n",
        "    \"nilai\" : [[{\"ALGO\": 85, \"KALKULUS\":90}]]\n",
        "}\n",
        "print(mhs[\"nama\"])\n",
        "print(mhs.get(\"angkatan\",[]))  # aman bila key tidak ada\n",
        "#print(mhs[\"angkatan\"])\n",
        "print(mhs['nilai'][0][0]['KALKULUS'])"
      ]
    },
    {
      "cell_type": "markdown",
      "id": "3a8af249",
      "metadata": {
        "id": "3a8af249"
      },
      "source": [
        "### 3.2 Mengakses Nilai"
      ]
    },
    {
      "cell_type": "code",
      "execution_count": null,
      "id": "05989066",
      "metadata": {
        "id": "05989066"
      },
      "outputs": [],
      "source": [
        "mhs = {\"nama\": \"Budi\", \"nim\": \"A11.2025.001\", \"ipk\": 3.5}\n",
        "print(mhs[\"nama\"])        # akses langsung\n",
        "print(mhs.get(\"ipk\"))     # akses aman\n",
        "print(mhs.get(\"prodi\", \"tidak ada\"))  # dengan default"
      ]
    },
    {
      "cell_type": "markdown",
      "id": "de83f7a3",
      "metadata": {
        "id": "de83f7a3"
      },
      "source": [
        "### 3.3 Menambah & Memperbarui Item"
      ]
    },
    {
      "cell_type": "code",
      "execution_count": null,
      "id": "1d73f39b",
      "metadata": {
        "id": "1d73f39b"
      },
      "outputs": [],
      "source": [
        "mhs = {\"nama\": \"Budi\"}\n",
        "mhs[\"nim\"] = \"A11.2025.001\"         # tambah key baru\n",
        "mhs[\"nama\"] = \"Cici\"                # update value\n",
        "mhs.update({\"ipk\": 3.8, \"prodi\": \"Informatika\"})  # update banyak sekaligus"
      ]
    },
    {
      "cell_type": "markdown",
      "id": "9fdf973d",
      "metadata": {
        "id": "9fdf973d"
      },
      "source": [
        "### 3.4 Menghapus Item"
      ]
    },
    {
      "cell_type": "code",
      "execution_count": null,
      "id": "6a9befe5",
      "metadata": {
        "id": "6a9befe5"
      },
      "outputs": [],
      "source": [
        "mhs = {\"nama\": \"Budi\", \"nim\": \"A11.2025.001\", \"ipk\": 3.5}\n",
        "del mhs[\"ipk\"]        # hapus dengan del\n",
        "nim = mhs.pop(\"nim\")  # hapus & ambil nilai\n",
        "mhs.clear()           # hapus semua item\n",
        "mhs, nim"
      ]
    },
    {
      "cell_type": "markdown",
      "id": "4601a72d",
      "metadata": {
        "id": "4601a72d"
      },
      "source": [
        "### 3.5 Menyalin & Menggabungkan Dictionary"
      ]
    },
    {
      "cell_type": "code",
      "execution_count": null,
      "id": "8fb6324f",
      "metadata": {
        "id": "8fb6324f"
      },
      "outputs": [],
      "source": [
        "a = {\"x\": 1, \"y\": 2}\n",
        "b = a.copy()              # salin\n",
        "c = dict(a)               # salin cara lain\n",
        "\n",
        "d = {\"y\": 99, \"z\": 3}\n",
        "gabung = {**a, **d}       # merge dengan unpacking\n",
        "\n",
        "a, b, c, gabung"
      ]
    },
    {
      "cell_type": "markdown",
      "id": "92f93fc8",
      "metadata": {
        "id": "92f93fc8"
      },
      "source": [
        "### 3.6 Fungsi Built-in untuk Dictionary"
      ]
    },
    {
      "cell_type": "code",
      "execution_count": null,
      "id": "f25b793a",
      "metadata": {
        "id": "f25b793a"
      },
      "outputs": [],
      "source": [
        "data = {\"a\": 10, \"b\": 20, \"c\": 30}\n",
        "print(\"len   :\", len(data))    # jumlah pasangan\n",
        "print(\"keys  :\", list(data.keys()))\n",
        "print(\"values:\", list(data.values()))\n",
        "print(\"items :\", list(data.items()))"
      ]
    },
    {
      "cell_type": "markdown",
      "id": "dbe3cd11",
      "metadata": {
        "id": "dbe3cd11"
      },
      "source": [
        "### 3.7. Metode Penting Lain\n",
        "- `popitem()`: hapus item terakhir\n",
        "- `setdefault(k,v)`: ambil value jika ada, jika tidak buat baru\n",
        "- `fromkeys(seq, val)`: buat dict dari list key dengan value sama"
      ]
    },
    {
      "cell_type": "code",
      "execution_count": null,
      "id": "45d97496",
      "metadata": {
        "id": "45d97496"
      },
      "outputs": [],
      "source": [
        "buah = {\"apel\": 10, \"jeruk\": 5}\n",
        "item = buah.popitem()\n",
        "print(\"popitem:\", item, \"| sisa:\", buah)\n",
        "\n",
        "buah.setdefault(\"mangga\", 0)\n",
        "print(\"setdefault:\", buah)\n",
        "\n",
        "kunci = [\"x\", \"y\", \"z\"]\n",
        "baru = dict.fromkeys(kunci, 100)\n",
        "print(\"fromkeys:\", baru)"
      ]
    },
    {
      "cell_type": "markdown",
      "id": "6ff87b02",
      "metadata": {
        "id": "6ff87b02"
      },
      "source": [
        "### 3.8 Iterasi Dictionary"
      ]
    },
    {
      "cell_type": "code",
      "execution_count": null,
      "id": "8aaac7b7",
      "metadata": {
        "id": "8aaac7b7"
      },
      "outputs": [],
      "source": [
        "mhs = {\"nama\": \"Cici\", \"nim\": \"A11.2025.002\", \"prodi\": \"Sistem Informasi\"}\n",
        "for k, v in mhs.items():\n",
        "    print(f\"{k}: {v}\")"
      ]
    },
    {
      "cell_type": "markdown",
      "id": "fad4d19e",
      "metadata": {
        "id": "fad4d19e"
      },
      "source": [
        "### 3.9 Nested Dictionary (Dictionary di dalam Dictionary)"
      ]
    },
    {
      "cell_type": "code",
      "execution_count": null,
      "id": "19b7b269",
      "metadata": {
        "id": "19b7b269"
      },
      "outputs": [],
      "source": [
        "mahasiswa = {\n",
        "    \"A11.2025.001\": {\"nama\": \"Budi\", \"ipk\": 3.5},\n",
        "    \"A11.2025.002\": {\"nama\": \"Cici\", \"ipk\": 3.8}\n",
        "}\n",
        "\n",
        "print(mahasiswa[\"A11.2025.001\"][\"nama\"])\n",
        "print(mahasiswa[\"A11.2025.002\"][\"ipk\"])"
      ]
    },
    {
      "cell_type": "markdown",
      "id": "83932ac9",
      "metadata": {
        "id": "83932ac9"
      },
      "source": [
        "### 3.10 Latihan — Dictionary\n",
        "**Tugas:**\n",
        "Buat `dict` bernama `nilai_mk` dengan kunci = nama mata kuliah, nilai = angka (0-100). Hitung:\n",
        "- Rata-rata semua mata kuliah\n",
        "- Daftar mata kuliah dengan nilai ≥ 80\n",
        "- Ganti salah satu nilai, lalu tampilkan dictionary terbaru.\n"
      ]
    },
    {
      "cell_type": "code",
      "execution_count": null,
      "id": "c17b27de",
      "metadata": {
        "id": "c17b27de"
      },
      "outputs": [],
      "source": [
        "# TODO: Kerjakan latihan dictionary di sini\n",
        "nilai_mk = {\n",
        "    \"Matematika\": 85,\n",
        "    \"Pemrograman\": 78,\n",
        "    \"Bahasa Indonesia\": 90,\n",
        "    \"Pancasila\": 88\n",
        "}\n",
        "# tulis solusi Anda..."
      ]
    },
    {
      "cell_type": "code",
      "execution_count": null,
      "id": "12b618c6",
      "metadata": {
        "id": "12b618c6"
      },
      "outputs": [],
      "source": [
        "nilai_mk = {\n",
        "    \"Matematika\": 85,\n",
        "    \"Pemrograman\": 78,\n",
        "    \"Bahasa Indonesia\": 90,\n",
        "    \"Pancasila\": 88\n",
        "}\n",
        "\n",
        "# 1) Hitung rata-rata semua mata kuliah\n",
        "total = 0\n",
        "for n in nilai_mk.values():\n",
        "    total += n\n",
        "rata2 = total / len(nilai_mk)\n",
        "\n",
        "print(\"Rata-rata nilai:\", rata2)\n",
        "\n",
        "# 2) Daftar mata kuliah dengan nilai ≥ 80\n",
        "mk_bagus = []\n",
        "for mk, nilai in nilai_mk.items():\n",
        "    if nilai >= 80:\n",
        "        mk_bagus.append(mk)\n",
        "\n",
        "print(\"Mata kuliah dengan nilai ≥ 80:\", mk_bagus)\n",
        "\n",
        "# 3) Ganti salah satu nilai, misal ubah nilai 'Pemrograman' jadi 82\n",
        "nilai_mk[\"Pemrograman\"] = 82\n",
        "print(\"Dictionary terbaru:\", nilai_mk)\n"
      ]
    },
    {
      "cell_type": "markdown",
      "id": "9ba22321",
      "metadata": {
        "id": "9ba22321"
      },
      "source": [
        "## 4. If / Elif / Else (Percabangan Logika)\n",
        "Struktur dasar:\n",
        "```python\n",
        "if kondisi:\n",
        "    aksi\n",
        "elif kondisi_lain:\n",
        "    aksi_lain\n",
        "else:\n",
        "    aksi_default\n",
        "```\n",
        "Gunakan untuk pengambilan keputusan berdasarkan kondisi."
      ]
    },
    {
      "cell_type": "markdown",
      "id": "8d79a949",
      "metadata": {
        "id": "8d79a949"
      },
      "source": [
        "### 4.1 If Statement\n",
        "Struktur dasar:\n",
        "```python\n",
        "if kondisi:\n",
        "    aksi\n",
        "```"
      ]
    },
    {
      "cell_type": "code",
      "execution_count": null,
      "id": "17cd6c8a",
      "metadata": {
        "id": "17cd6c8a"
      },
      "outputs": [],
      "source": [
        "x = 10\n",
        "if x > 5:\n",
        "    print(\"x lebih besar dari 5\")"
      ]
    },
    {
      "cell_type": "markdown",
      "id": "66fe37e7",
      "metadata": {
        "id": "66fe37e7"
      },
      "source": [
        "### 4.2 If - Else\n",
        "Struktur dengan dua cabang:\n",
        "```python\n",
        "if kondisi:\n",
        "    aksi1\n",
        "else:\n",
        "    aksi2\n",
        "```"
      ]
    },
    {
      "cell_type": "code",
      "execution_count": null,
      "id": "21331397",
      "metadata": {
        "id": "21331397"
      },
      "outputs": [],
      "source": [
        "x = 3\n",
        "if x % 2 == 0:\n",
        "    print(\"x genap\")\n",
        "else:\n",
        "    print(\"x ganjil\")"
      ]
    },
    {
      "cell_type": "markdown",
      "id": "ff82c9f2",
      "metadata": {
        "id": "ff82c9f2"
      },
      "source": [
        "### 4.3 If - Elif - Else\n",
        "Digunakan untuk banyak kondisi."
      ]
    },
    {
      "cell_type": "code",
      "execution_count": null,
      "id": "c34f5025",
      "metadata": {
        "id": "c34f5025"
      },
      "outputs": [],
      "source": [
        "# contoh klasifikasi nilai huruf\n",
        "nilai = 82\n",
        "if nilai >= 85:\n",
        "    grade = \"A\"\n",
        "elif nilai >= 70:\n",
        "    grade = \"B\"\n",
        "elif nilai >= 55:\n",
        "    grade = \"C\"\n",
        "else:\n",
        "    grade = \"D\"\n",
        "grade"
      ]
    },
    {
      "cell_type": "markdown",
      "id": "a3414269",
      "metadata": {
        "id": "a3414269"
      },
      "source": [
        "### 4.4 Nested If (If di dalam If)"
      ]
    },
    {
      "cell_type": "code",
      "execution_count": null,
      "id": "072e6b4c",
      "metadata": {
        "id": "072e6b4c"
      },
      "outputs": [],
      "source": [
        "umur = 20\n",
        "if umur >= 18:\n",
        "    if umur < 25:\n",
        "        print(\"Dewasa muda\")\n",
        "    else:\n",
        "        print(\"Dewasa\")\n",
        "else:\n",
        "    print(\"Belum dewasa\")"
      ]
    },
    {
      "cell_type": "markdown",
      "id": "051f08ea",
      "metadata": {
        "id": "051f08ea"
      },
      "source": [
        "### 4.5. Ternary Operator\n",
        "Sintaks: `aksi1 if kondisi else aksi2`"
      ]
    },
    {
      "cell_type": "code",
      "execution_count": null,
      "id": "9840a4be",
      "metadata": {
        "id": "9840a4be"
      },
      "outputs": [],
      "source": [
        "x = 7\n",
        "paritas = \"genap\" if x % 2 == 0 else \"ganjil\"\n",
        "print(\"x adalah\", paritas)"
      ]
    },
    {
      "cell_type": "markdown",
      "id": "7f71ac33",
      "metadata": {
        "id": "7f71ac33"
      },
      "source": [
        "### 4.6 Gabungan Kondisi\n",
        "Menggunakan operator logika `and`, `or`, `not`."
      ]
    },
    {
      "cell_type": "code",
      "execution_count": null,
      "id": "7b2a5b66",
      "metadata": {
        "id": "7b2a5b66"
      },
      "outputs": [],
      "source": [
        "usia = 19\n",
        "punya_sim = True\n",
        "\n",
        "if usia >= 17 and punya_sim:\n",
        "    print(\"Boleh mengemudi\")\n",
        "else:\n",
        "    print(\"Tidak boleh mengemudi\")"
      ]
    },
    {
      "cell_type": "markdown",
      "id": "147ee5ea",
      "metadata": {
        "id": "147ee5ea"
      },
      "source": [
        "### 4.7 Latihan — If/Elif/Else\n",
        "**Tugas:**\n",
        "\n",
        "1) Minta input nilai ujian, lalu tampilkan kategori: 'Lulus' jika ≥ 60, selain itu 'Tidak Lulus'.\n",
        "2) Klasifikasikan umur menjadi: Anak (<13), Remaja (13–17), Dewasa (18–59), Lansia (≥60).\n",
        "3) Tentukan apakah sebuah yang di input melalui keyboard adalah angka positif, negatif, atau nol.\n"
      ]
    },
    {
      "cell_type": "code",
      "execution_count": null,
      "id": "e46cac6c",
      "metadata": {
        "id": "e46cac6c"
      },
      "outputs": [],
      "source": [
        "# 1) Kategori kelulusan\n",
        "nilai = int(input(\"Masukkan nilai ujian: \"))\n",
        "if nilai >= 60: # jika nilai lebih dari 60 maka akan bernilai True\n",
        "    print(\"Lulus\") # Jika True maka di print lulus\n",
        "else:\n",
        "    print(\"Tidak Lulus\")\n",
        "\n",
        "# 2) Klasifikasi umur\n",
        "umur = int(input(\"Masukkan umur: \"))\n",
        "if umur < 13:\n",
        "    print(\"Kategori: Anak\")\n",
        "elif umur <= 17:\n",
        "    print(\"Kategori: Remaja\")\n",
        "elif umur <= 59:\n",
        "    print(\"Kategori: Dewasa\")\n",
        "else:\n",
        "    print(\"Kategori: Lansia\")\n",
        "\n",
        "# 3) Positif, negatif, atau nol\n",
        "angka = int(input(\"Masukkan sebuah angka: \"))\n",
        "if angka > 0:\n",
        "    print(\"Angka positif\")\n",
        "elif angka < 0:\n",
        "    print(\"Angka negatif\")\n",
        "else:\n",
        "    print(\"Angka nol\")\n"
      ]
    },
    {
      "cell_type": "markdown",
      "id": "021babfe",
      "metadata": {
        "id": "021babfe"
      },
      "source": [
        "## 5. Looping — `for` dan `while`\n",
        "\n",
        "**Cakupan:**\n",
        "- Perulangan `for`\n",
        "- Fungsi `range()`\n",
        "- Perulangan `while`\n",
        "- Pernyataan `break`, `continue`, `pass`\n",
        "- Nested loop (loop di dalam loop)\n",
        "- Contoh studi kasus\n",
        "- Latihan mandiri\n",
        "\n",
        "### 5.1 `for` Loop\n",
        "Digunakan untuk mengulang iterasi secara deterministik pada koleksi/urutan (list, range, dict).\n",
        "\n"
      ]
    },
    {
      "cell_type": "code",
      "execution_count": null,
      "id": "a2d2af0e",
      "metadata": {
        "id": "a2d2af0e"
      },
      "outputs": [],
      "source": [
        "# contoh for + range\n",
        "for i in range(1, 6):\n",
        "    print(\"Iterasi ke-\", i)"
      ]
    },
    {
      "cell_type": "code",
      "execution_count": null,
      "id": "2c330ec2",
      "metadata": {
        "id": "2c330ec2"
      },
      "outputs": [],
      "source": [
        "buah = [\"apel\", \"jeruk\", \"pisang\"]\n",
        "for item in buah:\n",
        "    print(\"Saya suka\", item)"
      ]
    },
    {
      "cell_type": "markdown",
      "id": "386a6852",
      "metadata": {
        "id": "386a6852"
      },
      "source": [
        "### 5.2. Fungsi `range()`\n",
        "Digunakan untuk menghasilkan deret angka.\n",
        "- `range(stop)`\n",
        "- `range(start, stop)`\n",
        "- `range(start, stop, step)`"
      ]
    },
    {
      "cell_type": "code",
      "execution_count": null,
      "id": "821f7235",
      "metadata": {
        "id": "821f7235"
      },
      "outputs": [],
      "source": [
        "for i in range(5):\n",
        "    print(i, end=\" \")\n",
        "\n",
        "print(\"\\n---\")\n",
        "for i in range(2, 7):\n",
        "    print(i, end=\" \")\n",
        "\n",
        "print(\"\\n---\")\n",
        "for i in range(0, 11, 2):\n",
        "    print(i, end=\" \")"
      ]
    },
    {
      "cell_type": "markdown",
      "id": "d4ae23ee",
      "metadata": {
        "id": "d4ae23ee"
      },
      "source": [
        "### 5.2 `while` Loop\n",
        "`while` mengulang selama kondisi bernilai `True`. Hati-hati dengan kondisi berhenti."
      ]
    },
    {
      "cell_type": "code",
      "execution_count": null,
      "id": "3bb42a70",
      "metadata": {
        "id": "3bb42a70"
      },
      "outputs": [],
      "source": [
        "hitung = 0\n",
        "while hitung < 5:\n",
        "    print(\"Hitung =\", hitung)\n",
        "    hitung += 1"
      ]
    },
    {
      "cell_type": "code",
      "execution_count": null,
      "id": "73c60b46",
      "metadata": {
        "id": "73c60b46"
      },
      "outputs": [],
      "source": [
        "# contoh while: tebak angka sederhana (non-interaktif fallback)\n",
        "target = 5\n",
        "tebakan = 1\n",
        "langkah = 0\n",
        "\n",
        "while tebakan != target and langkah < 10:\n",
        "    # (di mode interaktif Anda bisa pakai input untuk menebak)\n",
        "    if tebakan < target:\n",
        "        tebakan += 1\n",
        "    langkah += 1\n",
        "\n",
        "print(\"Selesai dalam langkah:\", langkah, \"| nilai:\", tebakan)"
      ]
    },
    {
      "cell_type": "markdown",
      "id": "3f918f91",
      "metadata": {
        "id": "3f918f91"
      },
      "source": [
        "### 5.3 `break`, `continue`, `pass`\n",
        "- `break`: hentikan loop\n",
        "- `continue`: loncati sisa blok dan lanjut iterasi berikutnya\n",
        "- `pass`: placeholder (tidak melakukan apa-apa)"
      ]
    },
    {
      "cell_type": "code",
      "execution_count": null,
      "id": "adff8328",
      "metadata": {
        "id": "adff8328"
      },
      "outputs": [],
      "source": [
        "# contoh break/continue\n",
        "for n in range(10):\n",
        "    if n == 7:\n",
        "        break      # hentikan loop saat n == 7\n",
        "    if n % 2 == 0:\n",
        "        continue   # skip bilangan genap\n",
        "    print(n)       # hanya bilangan ganjil < 7"
      ]
    },
    {
      "cell_type": "code",
      "execution_count": null,
      "id": "5d6a1eab",
      "metadata": {
        "id": "5d6a1eab"
      },
      "outputs": [],
      "source": [
        "for i in range(1, 10):\n",
        "    if i == 5:\n",
        "        break      # hentikan loop saat i==5\n",
        "    if i % 2 == 0:\n",
        "        continue   # skip bilangan genap\n",
        "    print(i)"
      ]
    },
    {
      "cell_type": "code",
      "execution_count": null,
      "id": "df928be1",
      "metadata": {
        "id": "df928be1"
      },
      "outputs": [],
      "source": [
        "# pass = placeholder\n",
        "for i in range(3):\n",
        "    pass  # tidak melakukan apa-apa, hanya placeholder\n",
        "print(\"Loop selesai\")"
      ]
    },
    {
      "cell_type": "markdown",
      "id": "a75572ef",
      "metadata": {
        "id": "a75572ef"
      },
      "source": [
        "### 5.4 Nested Loop (Loop di dalam Loop)\n",
        "Contoh: mencetak tabel perkalian."
      ]
    },
    {
      "cell_type": "code",
      "execution_count": null,
      "id": "40c9d1ed",
      "metadata": {
        "id": "40c9d1ed"
      },
      "outputs": [],
      "source": [
        "for i in range(1, 4):\n",
        "    for j in range(1, 4):\n",
        "        print(f\"{i} x {j} = {i*j}\")\n",
        "    print(\"---\")"
      ]
    },
    {
      "cell_type": "markdown",
      "id": "1022a23d",
      "metadata": {
        "id": "1022a23d"
      },
      "source": [
        "### 5.6. Looping pada String\n",
        "String bisa diiterasi per karakter."
      ]
    },
    {
      "cell_type": "code",
      "execution_count": null,
      "id": "736e4d1d",
      "metadata": {
        "id": "736e4d1d"
      },
      "outputs": [],
      "source": [
        "kata = \"Python\"\n",
        "for huruf in kata:\n",
        "    print(huruf)"
      ]
    },
    {
      "cell_type": "markdown",
      "id": "c91847e0",
      "metadata": {
        "id": "c91847e0"
      },
      "source": [
        "### 5.7 Loop dengan `enumerate()`\n",
        "Untuk mendapatkan index sekaligus nilai."
      ]
    },
    {
      "cell_type": "code",
      "execution_count": null,
      "id": "16ee55dc",
      "metadata": {
        "id": "16ee55dc"
      },
      "outputs": [],
      "source": [
        "buah = [\"apel\", \"jeruk\", \"pisang\"]\n",
        "for idx, val in enumerate(buah):\n",
        "    print(idx, \"->\", val)"
      ]
    },
    {
      "cell_type": "markdown",
      "id": "fdf66739",
      "metadata": {
        "id": "fdf66739"
      },
      "source": [
        "### 5.8. Loop dengan `zip()`\n",
        "Menggabungkan beberapa list untuk diiterasi bersamaan."
      ]
    },
    {
      "cell_type": "code",
      "execution_count": null,
      "id": "460e109c",
      "metadata": {
        "id": "460e109c"
      },
      "outputs": [],
      "source": [
        "nama = [\"Ana\", \"Budi\", \"Cici\"]\n",
        "nilai = [85, 90, 78]\n",
        "\n",
        "for n, v in zip(nama, nilai):\n",
        "    print(n, \"mendapat nilai\", v)"
      ]
    },
    {
      "cell_type": "markdown",
      "id": "15fff134",
      "metadata": {
        "id": "15fff134"
      },
      "source": [
        "### 5.9. Loop dengan Else\n",
        "Bagian `else` dieksekusi jika loop selesai tanpa `break`."
      ]
    },
    {
      "cell_type": "code",
      "execution_count": null,
      "id": "f0662934",
      "metadata": {
        "id": "f0662934"
      },
      "outputs": [],
      "source": [
        "for i in range(3):\n",
        "    print(i)\n",
        "else:\n",
        "    print(\"Loop selesai tanpa break\")"
      ]
    },
    {
      "cell_type": "code",
      "execution_count": null,
      "id": "803c3d80",
      "metadata": {
        "id": "803c3d80"
      },
      "outputs": [],
      "source": [
        "for i in range(3):\n",
        "    if i == 1:\n",
        "        break\n",
        "    print(i)\n",
        "else:\n",
        "    print(\"Tidak jalan karena ada break\")"
      ]
    },
    {
      "cell_type": "markdown",
      "id": "78b7e91b",
      "metadata": {
        "id": "78b7e91b"
      },
      "source": [
        "### 5.10. Studi Kasus\n",
        "#### 5.10.1 Menjumlahkan Bilangan dengan Loop"
      ]
    },
    {
      "cell_type": "code",
      "execution_count": null,
      "id": "31123d6f",
      "metadata": {
        "id": "31123d6f"
      },
      "outputs": [],
      "source": [
        "total = 0\n",
        "for i in range(1, 6):\n",
        "    total += i\n",
        "print(\"Jumlah 1..5 =\", total)"
      ]
    },
    {
      "cell_type": "markdown",
      "id": "190f22e7",
      "metadata": {
        "id": "190f22e7"
      },
      "source": [
        "#### 5.10.2 Validasi Input dengan While"
      ]
    },
    {
      "cell_type": "code",
      "execution_count": null,
      "id": "2b77ecc2",
      "metadata": {
        "id": "2b77ecc2"
      },
      "outputs": [],
      "source": [
        "# contoh sederhana validasi input\n",
        "# (pakai loop terbatas agar aman di mode non-interaktif)\n",
        "kali = 0\n",
        "nilai = -1\n",
        "while (nilai < 0 or nilai > 100) and kali < 3:\n",
        "    # seharusnya pakai input(), di sini simulasi otomatis\n",
        "    nilai = 50 if kali == 2 else -1\n",
        "    kali += 1\n",
        "\n",
        "print(\"Nilai akhir:\", nilai)"
      ]
    },
    {
      "cell_type": "markdown",
      "id": "872f427e",
      "metadata": {
        "id": "872f427e"
      },
      "source": [
        "### 5.11. Latihan Mandiri\n",
        "1) Cetak bilangan ganjil dari 1–20 dengan `for`.\n",
        "2) Buat program yang meminta password hingga benar (gunakan `while`).\n",
        "3) Cetak pola segitiga bintang:\n",
        "```\n",
        "*\n",
        "**\n",
        "***\n",
        "****\n",
        "```\n",
        "4) Gunakan `zip()` untuk menggabungkan dua list (nama & usia) lalu tampilkan.\n",
        "5) Gunakan `enumerate()` untuk menampilkan index dan elemen list warna.\n",
        "\n",
        "> Kerjakan di sel kosong di bawah ini."
      ]
    },
    {
      "cell_type": "code",
      "execution_count": null,
      "id": "64f9da9d",
      "metadata": {
        "id": "64f9da9d"
      },
      "outputs": [],
      "source": [
        "# 1) Cetak bilangan ganjil dari 1–20 dengan for\n",
        "print(\"Bilangan ganjil 1–20:\")\n",
        "for i in range(1, 21):\n",
        "    if i % 2 == 1:\n",
        "        print(i, end=\" \")\n",
        "print(\"\\n\")\n",
        "\n",
        "# 2) Program meminta password hingga benar (while)\n",
        "password_benar = \"python123\"\n",
        "tebakan = \"\"\n",
        "while tebakan != password_benar:\n",
        "    tebakan = input(\"Masukkan password: \")\n",
        "print(\"Password benar!\\n\")\n",
        "\n",
        "# 3) Cetak pola segitiga bintang\n",
        "print(\"Pola segitiga bintang:\")\n",
        "for i in range(1, 5):\n",
        "    print(\"*\" * i)\n",
        "print()\n",
        "\n",
        "# 4) zip() untuk gabungkan dua list\n",
        "nama = [\"Andi\", \"Budi\", \"Citra\"]\n",
        "usia = [20, 22, 19]\n",
        "\n",
        "print(\"Gabungan nama & usia:\")\n",
        "for n, u in zip(nama, usia):\n",
        "    print(n, \"-\", u)\n",
        "print()\n",
        "\n",
        "# 5) enumerate() untuk tampilkan index & elemen list\n",
        "warna = [\"merah\", \"hijau\", \"biru\"]\n",
        "\n",
        "print(\"List warna dengan indeks:\")\n",
        "for idx, w in enumerate(warna):\n",
        "    print(idx, \":\", w)\n"
      ]
    },
    {
      "cell_type": "markdown",
      "id": "5c8f5c03",
      "metadata": {
        "id": "5c8f5c03"
      },
      "source": [
        "## 6. Studi Kasus Gabungan\n",
        "Berikut dua mini-proyek yang menggabungkan list, dict, percabangan, dan looping.\n",
        "### 6.1 Program Kasir Sederhana\n",
        "**Deskripsi:**\n",
        "- Simpan katalog barang di `dict` → `{nama_barang: harga}`\n",
        "- Minta pengguna memasukkan item belanja (nama + qty)\n",
        "- Hitung total, terapkan diskon jika memenuhi syarat\n",
        "- Cetak struk ringkas\n"
      ]
    },
    {
      "cell_type": "code",
      "execution_count": null,
      "id": "cd4e4479",
      "metadata": {
        "id": "cd4e4479"
      },
      "outputs": [],
      "source": [
        "# Kasir sederhana (tanpa input interaktif untuk kemudahan demo)\n",
        "katalog = {\n",
        "    \"roti\": 15000,\n",
        "    \"susu\": 12000,\n",
        "    \"telur\": 22000,\n",
        "    \"gula\": 14000\n",
        "}\n",
        "\n",
        "# keranjang: list of dict\n",
        "keranjang = [\n",
        "    {\"nama\": \"roti\", \"qty\": 2},\n",
        "    {\"nama\": \"telur\", \"qty\": 1},\n",
        "    {\"nama\": \"gula\", \"qty\": 3},\n",
        "]\n",
        "\n",
        "subtotal = 0\n",
        "for item in keranjang:\n",
        "    nama = item[\"nama\"]\n",
        "    qty = item[\"qty\"]\n",
        "    if nama in katalog:\n",
        "        harga = katalog[nama]\n",
        "        subtotal += harga * qty\n",
        "    else:\n",
        "        print(f\"Barang '{nama}' tidak ada di katalog.\")\n",
        "\n",
        "# aturan diskon contoh\n",
        "diskon = 0\n",
        "if subtotal >= 100000:\n",
        "    diskon = 0.10  # 10%\n",
        "elif subtotal >= 50000:\n",
        "    diskon = 0.05  # 5%\n",
        "\n",
        "total = int(subtotal * (1 - diskon))\n",
        "\n",
        "print(\"Subtotal:\", subtotal)\n",
        "print(\"Diskon  :\", f\"{int(diskon*100)}%\")\n",
        "print(\"Total   :\", total)"
      ]
    },
    {
      "cell_type": "markdown",
      "id": "f84929d3",
      "metadata": {
        "id": "f84929d3"
      },
      "source": [
        "### 6.2 Rekap Nilai Mahasiswa per Mata Kuliah\n",
        "**Deskripsi:**\n",
        "- Data mahasiswa: list of dict `{nama, nim, nilai_mk (dict)}`\n",
        "- Hitung rata-rata per mahasiswa & per mata kuliah\n",
        "- Tentukan kelulusan (≥ 60) dan grade\n"
      ]
    },
    {
      "cell_type": "code",
      "execution_count": null,
      "id": "ac93e5f6",
      "metadata": {
        "id": "ac93e5f6"
      },
      "outputs": [],
      "source": [
        "mahasiswa = [\n",
        "    {\"nama\": \"Ana\", \"nim\": \"A11.2025.010\", \"nilai_mk\": {\"Matematika\": 80, \"Pemrograman\": 75, \"Statistika\": 70}},\n",
        "    {\"nama\": \"Budi\", \"nim\": \"A11.2025.011\", \"nilai_mk\": {\"Matematika\": 65, \"Pemrograman\": 85, \"Statistika\": 55}},\n",
        "    {\"nama\": \"Cici\", \"nim\": \"A11.2025.012\", \"nilai_mk\": {\"Matematika\": 90, \"Pemrograman\": 88, \"Statistika\": 92}},\n",
        "]\n",
        "\n",
        "# rata-rata per mahasiswa + grade sederhana\n",
        "def hitung_rata(values):\n",
        "    total, n = 0, 0\n",
        "    for v in values:\n",
        "        total += v\n",
        "        n += 1\n",
        "    return total / n if n else 0.0\n",
        "\n",
        "def grade_dari_nilai(n):\n",
        "    if n >= 85: return \"A\"\n",
        "    if n >= 70: return \"B\"\n",
        "    if n >= 55: return \"C\"\n",
        "    return \"D\"\n",
        "\n",
        "print(\"Rata-rata & Grade per Mahasiswa\")\n",
        "for m in mahasiswa:\n",
        "    rata = hitung_rata(m[\"nilai_mk\"].values())\n",
        "    grd = grade_dari_nilai(rata)\n",
        "    lulus = \"Lulus\" if rata >= 60 else \"Tidak Lulus\"\n",
        "    print(f\"- {m['nama']} ({m['nim']}): rata={rata:.2f}, grade={grd}, {lulus}\")\n",
        "\n",
        "# rata-rata per mata kuliah\n",
        "rekap_mk = {}\n",
        "for m in mahasiswa:\n",
        "    for mk, n in m[\"nilai_mk\"].items():\n",
        "        rekap_mk.setdefault(mk, []).append(n)\n",
        "\n",
        "print(\"\\nRata-rata per Mata Kuliah\")\n",
        "for mk, daftar in rekap_mk.items():\n",
        "    print(f\"- {mk}: {hitung_rata(daftar):.2f}\")"
      ]
    }
  ],
  "metadata": {
    "kernelspec": {
      "display_name": ".venv",
      "language": "python",
      "name": "python3"
    },
    "language_info": {
      "codemirror_mode": {
        "name": "ipython",
        "version": 3
      },
      "file_extension": ".py",
      "mimetype": "text/x-python",
      "name": "python",
      "nbconvert_exporter": "python",
      "pygments_lexer": "ipython3",
      "version": "3.9.6"
    },
    "colab": {
      "provenance": [],
      "include_colab_link": true
    }
  },
  "nbformat": 4,
  "nbformat_minor": 5
}