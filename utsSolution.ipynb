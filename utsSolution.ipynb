{
  "cells": [
    {
      "cell_type": "markdown",
      "metadata": {
        "id": "view-in-github",
        "colab_type": "text"
      },
      "source": [
        "<a href=\"https://colab.research.google.com/github/ahmadcristiano/crud-php-bootstrap/blob/main/utsSolution.ipynb\" target=\"_parent\"><img src=\"https://colab.research.google.com/assets/colab-badge.svg\" alt=\"Open In Colab\"/></a>"
      ]
    },
    {
      "cell_type": "markdown",
      "metadata": {
        "id": "0TiNHX_ocaJK"
      },
      "source": [
        "## SOAL 1"
      ]
    },
    {
      "cell_type": "code",
      "execution_count": null,
      "metadata": {
        "id": "lk7NeWsbcaJP"
      },
      "outputs": [],
      "source": [
        "\n",
        "data_transaksi = [ {\"id\": 1, \"user\": \"Alice\", \"jumlah\": 400000, \"metode\": \"Credit Card\"}, \\\n",
        "    {\"id\": 2, \"user\": \"Bob\", \"jumlah\": 300000, \"metode\": \"Debit Card\"}, \\\n",
        "        {\"id\": 3, \"user\": \"Alice\", \"jumlah\": 150000, \"metode\": \"Cash\"}, \\\n",
        "            {\"id\": 4, \"user\": \"Charlie\", \"jumlah\": 300000, \"metode\": \"Credit Card\"}, \\\n",
        "                {\"id\": 5, \"user\": \"Bob\", \"jumlah\": 250000, \"metode\": \"Credit Card\"}, ]"
      ]
    },
    {
      "cell_type": "code",
      "execution_count": null,
      "metadata": {
        "id": "KOTyNZovcaJT"
      },
      "outputs": [],
      "source": [
        "data_transaksi_new2 = [ {\"id\": 1, \"user\": \"irvan\", \"jumlah\": 400000, \"metode\": \"BARTER\"}, \\\n",
        "    {\"id\": 2, \"user\": \"Bob\", \"jumlah\": 300000, \"metode\": \"Debit Card\"}, \\\n",
        "        {\"id\": 3, \"user\": \"Alice\", \"jumlah\": 150000, \"metode\": \"BARTER\"}, \\\n",
        "            {\"id\": 4, \"user\": \"Charlie\", \"jumlah\": 300000, \"metode\": \"BARTER\"}, \\\n",
        "                {\"id\": 5, \"user\": \"Bob\", \"jumlah\": 250000, \"metode\": \"BARTER\"}, ]"
      ]
    },
    {
      "cell_type": "markdown",
      "metadata": {
        "id": "eHePYvblcaJU"
      },
      "source": [
        "### A"
      ]
    },
    {
      "cell_type": "code",
      "execution_count": null,
      "metadata": {
        "colab": {
          "base_uri": "https://localhost:8080/"
        },
        "id": "h4Y0Gbh4caJV",
        "outputId": "3badae0a-bd45-4e46-b35b-c6df7082acef"
      },
      "outputs": [
        {
          "output_type": "stream",
          "name": "stdout",
          "text": [
            "Metode pembayaran yang paling sering digunakan adalah: Credit Card sebanyak 3 kali transaksi\n"
          ]
        }
      ],
      "source": [
        "# Menghitung frekuensi setiap metode pembayaran\n",
        "metode_count = {}\n",
        "\n",
        "for transaksi in data_transaksi:\n",
        "    metode = transaksi[\"metode\"]\n",
        "    if metode in metode_count:\n",
        "        metode_count[metode] += 1\n",
        "    else:\n",
        "        metode_count[metode] = 1\n",
        "\n",
        "# Menemukan metode pembayaran yang paling sering digunakan tanpa max() dengan key\n",
        "metode_tersering = 0\n",
        "frekuensi_tersering = 0\n",
        "\n",
        "for metode, frekuensi in metode_count.items():\n",
        "    if frekuensi > frekuensi_tersering:\n",
        "        metode_tersering = metode\n",
        "        frekuensi_tersering = frekuensi\n",
        "\n",
        "print(f\"Metode pembayaran yang paling sering digunakan adalah: {metode_tersering} sebanyak {frekuensi_tersering} kali transaksi\")"
      ]
    },
    {
      "cell_type": "markdown",
      "metadata": {
        "id": "dRMUaCUscaJX"
      },
      "source": [
        "#### MENGGUNAKAN LIST"
      ]
    },
    {
      "cell_type": "code",
      "execution_count": null,
      "metadata": {
        "colab": {
          "base_uri": "https://localhost:8080/"
        },
        "id": "Y3eAULK0caJY",
        "outputId": "fcba5094-75d8-4753-d438-2637b5fc4ab1"
      },
      "outputs": [
        {
          "output_type": "stream",
          "name": "stdout",
          "text": [
            "Metode pembayaran yang paling sering digunakan adalah: Credit Card sebanyak 3 kali transaksi\n"
          ]
        }
      ],
      "source": [
        "# Inisialisasi list untuk menyimpan data metode pembayaran dan frekuensinya\n",
        "metode_count = []\n",
        "\n",
        "data_transaksi = [ {\"id\": 1, \"user\": \"Alice\", \"jumlah\": 400000, \"metode\": \"Credit Card\"}, \\\n",
        "    {\"id\": 2, \"user\": \"Bob\", \"jumlah\": 300000, \"metode\": \"Debit Card\"}, \\\n",
        "        {\"id\": 3, \"user\": \"Alice\", \"jumlah\": 150000, \"metode\": \"Cash\"}, \\\n",
        "            {\"id\": 4, \"user\": \"Charlie\", \"jumlah\": 300000, \"metode\": \"Credit Card\"}, \\\n",
        "                {\"id\": 5, \"user\": \"Bob\", \"jumlah\": 250000, \"metode\": \"Credit Card\"}, ]\n",
        "\n",
        "# Loop melalui setiap transaksi untuk menghitung frekuensi\n",
        "for transaksi in data_transaksi:\n",
        "    metode = transaksi[\"metode\"]\n",
        "\n",
        "    # Cari metode pembayaran dalam list berdasarkan nama metode\n",
        "    metode_ditemukan = False\n",
        "    for entry in metode_count:\n",
        "        if entry[\"metode\"] == metode:\n",
        "            entry[\"frekuensi\"] += 1\n",
        "            metode_ditemukan = True\n",
        "            break\n",
        "\n",
        "    # Jika metode pembayaran belum ada, tambahkan entri baru\n",
        "    if not metode_ditemukan:\n",
        "        metode_count.append({\n",
        "            \"metode\": metode,\n",
        "            \"frekuensi\": 1\n",
        "        })\n",
        "\n",
        "# Menemukan metode pembayaran yang paling sering digunakan tanpa max()\n",
        "metode_tersering = None\n",
        "frekuensi_tersering = 0\n",
        "\n",
        "for entry in metode_count:\n",
        "    if entry[\"frekuensi\"] > frekuensi_tersering:\n",
        "        metode_tersering = entry[\"metode\"]\n",
        "        frekuensi_tersering = entry[\"frekuensi\"]\n",
        "\n",
        "# Cetak hasil\n",
        "print(f\"Metode pembayaran yang paling sering digunakan adalah: {metode_tersering} sebanyak {frekuensi_tersering} kali transaksi\")"
      ]
    },
    {
      "cell_type": "markdown",
      "metadata": {
        "id": "aqN8UkzqcaJY"
      },
      "source": [
        "### B"
      ]
    },
    {
      "cell_type": "code",
      "execution_count": null,
      "metadata": {
        "id": "GYJXPMb-caJZ",
        "outputId": "6e0836f2-8680-4941-f270-fd35daee028a"
      },
      "outputs": [
        {
          "name": "stdout",
          "output_type": "stream",
          "text": [
            "Rata-rata jumlah transaksi untuk metode Credit Card adalah 316666.67\n",
            "Rata-rata jumlah transaksi untuk metode Debit Card adalah 300000.00\n",
            "Rata-rata jumlah transaksi untuk metode Cash adalah 150000.00\n"
          ]
        }
      ],
      "source": [
        "total_per_metode = {}\n",
        "count_per_metode = {}\n",
        "\n",
        "# Loop melalui setiap transaksi untuk menghitung total dan frekuensi per metode\n",
        "for transaksi in data_transaksi:\n",
        "    metode = transaksi[\"metode\"]\n",
        "    jumlah = transaksi[\"jumlah\"]\n",
        "\n",
        "    if metode in total_per_metode:\n",
        "        total_per_metode[metode] += jumlah\n",
        "        count_per_metode[metode] += 1\n",
        "    else:\n",
        "        total_per_metode[metode] = jumlah\n",
        "        count_per_metode[metode] = 1\n",
        "\n",
        "# Menghitung rata-rata transaksi untuk setiap metode\n",
        "for metode in total_per_metode:\n",
        "    rata_rata = total_per_metode[metode] / count_per_metode[metode]\n",
        "    print(f\"Rata-rata jumlah transaksi untuk metode {metode} adalah {rata_rata:.2f}\")"
      ]
    },
    {
      "cell_type": "markdown",
      "metadata": {
        "id": "XJZhxBT9caJa"
      },
      "source": [
        "#### MENGGUNAKAN LIST"
      ]
    },
    {
      "cell_type": "code",
      "execution_count": null,
      "metadata": {
        "id": "MNLld31ZcaJa",
        "outputId": "4064060e-0ec3-4706-ec10-d51a423cf255"
      },
      "outputs": [
        {
          "name": "stdout",
          "output_type": "stream",
          "text": [
            "Rata-rata jumlah transaksi untuk metode Credit Card adalah 316666.67\n",
            "Rata-rata jumlah transaksi untuk metode Debit Card adalah 300000.00\n",
            "Rata-rata jumlah transaksi untuk metode Cash adalah 150000.00\n"
          ]
        }
      ],
      "source": [
        "metode_list = []\n",
        "\n",
        "# Proses setiap transaksi\n",
        "for transaksi in data_transaksi:\n",
        "    metode = transaksi[\"metode\"]\n",
        "    jumlah = transaksi[\"jumlah\"]\n",
        "\n",
        "    # Cari metode dalam metode_list\n",
        "    found = False\n",
        "    for item in metode_list:\n",
        "        if item[0] == metode:  # Jika metode sudah ada\n",
        "            item[1] += jumlah  # Tambahkan jumlah transaksi\n",
        "            item[2] += 1       # Tambahkan jumlah frekuensi\n",
        "            found = True\n",
        "            break\n",
        "\n",
        "    # Jika metode belum ada, tambahkan metode baru ke metode_list\n",
        "    if not found:\n",
        "        metode_list.append([metode, jumlah, 1])\n",
        "\n",
        "# Menghitung rata-rata dan menampilkan hasil\n",
        "for item in metode_list:\n",
        "    metode, total_jumlah, frekuensi = item\n",
        "    rata_rata = total_jumlah / frekuensi\n",
        "    print(f\"Rata-rata jumlah transaksi untuk metode {metode} adalah {rata_rata:.2f}\")"
      ]
    },
    {
      "cell_type": "markdown",
      "metadata": {
        "id": "125sjVlZcaJc"
      },
      "source": [
        "## SOAL 2"
      ]
    },
    {
      "cell_type": "code",
      "execution_count": null,
      "metadata": {
        "id": "fmdqcIx9caJc"
      },
      "outputs": [],
      "source": [
        "data_penjualan = [\n",
        "    {\n",
        "        \"id_transaksi\": 1,\n",
        "        \"tanggal\": \"2024-01-01\",\n",
        "        \"detail\": [\n",
        "            {\n",
        "                \"produk\": \"A\",\n",
        "                \"kuantitas\": 10,\n",
        "                \"harga_satuan\": 5000,\n",
        "                \"promosi\": [\n",
        "                    {\"jenis\": \"Diskon\", \"persentase\": 10},\n",
        "                    {\"jenis\": \"Bonus\", \"item_bonus\": \"Pulpen\"}\n",
        "                ]\n",
        "            },\n",
        "            {\n",
        "                \"produk\": \"B\",\n",
        "                \"kuantitas\": 5,\n",
        "                \"harga_satuan\": 7000,\n",
        "                \"promosi\": [\n",
        "                    {\"jenis\": \"Diskon\", \"persentase\": 5}\n",
        "                ]\n",
        "            }\n",
        "        ],\n",
        "        \"pelanggan\": {\"nama\": \"Andi\", \"membership\": \"Gold\"}\n",
        "    },\n",
        "    {\n",
        "        \"id_transaksi\": 2,\n",
        "        \"tanggal\": \"2024-01-01\",\n",
        "        \"detail\": [\n",
        "            {\n",
        "                \"produk\": \"A\",\n",
        "                \"kuantitas\": 20,\n",
        "                \"harga_satuan\": 5000,\n",
        "                \"promosi\": [\n",
        "                    {\"jenis\": \"Diskon\", \"persentase\": 5}\n",
        "                ]\n",
        "            },\n",
        "            {\n",
        "                \"produk\": \"C\",\n",
        "                \"kuantitas\": 2,\n",
        "                \"harga_satuan\": 10000,\n",
        "                \"promosi\": []\n",
        "            }\n",
        "        ],\n",
        "        \"pelanggan\": {\"nama\": \"Budi\", \"membership\": \"Silver\"}\n",
        "    },\n",
        "    {\n",
        "        \"id_transaksi\": 3,\n",
        "        \"tanggal\": \"2024-01-02\",\n",
        "        \"detail\": [\n",
        "            {\n",
        "                \"produk\": \"B\",\n",
        "                \"kuantitas\": 8,\n",
        "                \"harga_satuan\": 7000,\n",
        "                \"promosi\": [\n",
        "                    {\"jenis\": \"Diskon\", \"persentase\": 15},\n",
        "                    {\"jenis\": \"Gratis Ongkir\"}\n",
        "                ]\n",
        "            },\n",
        "            {\n",
        "                \"produk\": \"C\",\n",
        "                \"kuantitas\": 1,\n",
        "                \"harga_satuan\": 10000,\n",
        "                \"promosi\": [\n",
        "                    {\"jenis\": \"Bonus\", \"item_bonus\": \"Tas\"}\n",
        "                ]\n",
        "            }\n",
        "        ],\n",
        "        \"pelanggan\": {\"nama\": \"Citra\", \"membership\": \"Gold\"}\n",
        "    }\n",
        "]\n"
      ]
    },
    {
      "cell_type": "markdown",
      "metadata": {
        "id": "l9sSGB0OcaJd"
      },
      "source": [
        "### A"
      ]
    },
    {
      "cell_type": "code",
      "execution_count": null,
      "metadata": {
        "id": "3fYymSEvcaJd",
        "outputId": "b36955f3-804a-48da-8b89-3aad31aad7c9"
      },
      "outputs": [
        {
          "name": "stdout",
          "output_type": "stream",
          "text": [
            "Pendapatan Produk A adalah sebesar 140000.00\n",
            "Pendapatan Produk B adalah sebesar 80850.00\n",
            "Pendapatan Produk C adalah sebesar 30000.00\n"
          ]
        }
      ],
      "source": [
        "# Inisialisasi dictionary untuk menyimpan total pendapatan setiap produk\n",
        "pendapatan_produk = {}\n",
        "\n",
        "# Loop melalui setiap transaksi\n",
        "for transaksi in data_penjualan:\n",
        "    for item in transaksi[\"detail\"]:\n",
        "        produk = item[\"produk\"]\n",
        "        harga_satuan = item[\"harga_satuan\"]\n",
        "        kuantitas = item[\"kuantitas\"]\n",
        "\n",
        "        # Terapkan diskon pada harga satuan jika ada\n",
        "        for promosi in item[\"promosi\"]:\n",
        "            if promosi[\"jenis\"] == \"Diskon\":\n",
        "                persentase_diskon = promosi[\"persentase\"]\n",
        "                harga_satuan *= (1 - persentase_diskon / 100)\n",
        "                break  # Hanya satu diskon yang diterapkan\n",
        "\n",
        "        # Hitung harga setelah diskon per kuantitas\n",
        "        harga_setelah_diskon = harga_satuan * kuantitas\n",
        "\n",
        "        # Tambahkan pendapatan produk ke dalam dictionary\n",
        "        if produk in pendapatan_produk:\n",
        "            pendapatan_produk[produk] += harga_setelah_diskon\n",
        "        else:\n",
        "            pendapatan_produk[produk] = harga_setelah_diskon\n",
        "\n",
        "# Cetak total pendapatan untuk setiap produk\n",
        "for produk, pendapatan in pendapatan_produk.items():\n",
        "    print(f\"Pendapatan Produk {produk} adalah sebesar {pendapatan:.2f}\")\n"
      ]
    },
    {
      "cell_type": "markdown",
      "metadata": {
        "id": "X1LeleUNcaJe"
      },
      "source": [
        "### LIST"
      ]
    },
    {
      "cell_type": "code",
      "execution_count": null,
      "metadata": {
        "id": "eZds5iHYcaJe",
        "outputId": "73a67114-7cf6-40ce-a1be-ae8c826be7c7"
      },
      "outputs": [
        {
          "name": "stdout",
          "output_type": "stream",
          "text": [
            "Pendapatan Produk A adalah sebesar 140000.00\n",
            "Pendapatan Produk B adalah sebesar 80850.00\n",
            "Pendapatan Produk C adalah sebesar 30000.00\n"
          ]
        }
      ],
      "source": [
        "# Inisialisasi list untuk menyimpan data pendapatan setiap produk\n",
        "pendapatan_produk = []\n",
        "\n",
        "# Loop melalui setiap transaksi\n",
        "for transaksi in data_penjualan:\n",
        "    for item in transaksi[\"detail\"]:\n",
        "        produk = item[\"produk\"]\n",
        "        harga_satuan = item[\"harga_satuan\"]\n",
        "        kuantitas = item[\"kuantitas\"]\n",
        "\n",
        "        # Terapkan diskon pada harga satuan jika ada\n",
        "        for promosi in item[\"promosi\"]:\n",
        "            if promosi[\"jenis\"] == \"Diskon\":\n",
        "                persentase_diskon = promosi[\"persentase\"]\n",
        "                harga_satuan *= (1 - persentase_diskon / 100)\n",
        "                break  # Hanya satu diskon yang diterapkan\n",
        "\n",
        "        # Hitung harga setelah diskon per kuantitas\n",
        "        harga_setelah_diskon = harga_satuan * kuantitas\n",
        "\n",
        "        # Cari produk dalam list pendapatan_produk\n",
        "        produk_ditemukan = False\n",
        "        for entry in pendapatan_produk:\n",
        "            if entry[\"produk\"] == produk:\n",
        "                entry[\"pendapatan\"] += harga_setelah_diskon\n",
        "                produk_ditemukan = True\n",
        "                break\n",
        "\n",
        "        # Jika produk belum ada dalam list, tambahkan entri baru\n",
        "        if not produk_ditemukan:\n",
        "            pendapatan_produk.append({\n",
        "                \"produk\": produk,\n",
        "                \"pendapatan\": harga_setelah_diskon\n",
        "            })\n",
        "\n",
        "# Cetak total pendapatan untuk setiap produk\n",
        "for entry in pendapatan_produk:\n",
        "    print(f\"Pendapatan Produk {entry['produk']} adalah sebesar {entry['pendapatan']:.2f}\")\n"
      ]
    },
    {
      "cell_type": "markdown",
      "metadata": {
        "id": "qjjRIulZcaJf"
      },
      "source": [
        "### B"
      ]
    },
    {
      "cell_type": "code",
      "execution_count": null,
      "metadata": {
        "id": "DbT5FmLXcaJg",
        "outputId": "29254722-7385-42de-c04c-4941a2b6543e"
      },
      "outputs": [
        {
          "name": "stdout",
          "output_type": "stream",
          "text": [
            "Pelanggan Tertinggi adalah Budi dengan Total Pembelanjaan adalah 115000.00\n",
            "Tidak ada bonus yang diperoleh.\n"
          ]
        }
      ],
      "source": [
        "# Inisialisasi dictionary untuk menyimpan total pembelanjaan dan bonus setiap pelanggan\n",
        "pembelanjaan_pelanggan = {}\n",
        "bonus_pelanggan = {}\n",
        "\n",
        "# Loop melalui setiap transaksi\n",
        "for transaksi in data_penjualan:\n",
        "    nama_pelanggan = transaksi[\"pelanggan\"][\"nama\"]\n",
        "\n",
        "    # Inisialisasi pembelanjaan dan bonus pelanggan jika belum ada\n",
        "    if nama_pelanggan not in pembelanjaan_pelanggan:\n",
        "        pembelanjaan_pelanggan[nama_pelanggan] = 0\n",
        "        bonus_pelanggan[nama_pelanggan] = []\n",
        "\n",
        "    # Loop melalui setiap produk dalam transaksi\n",
        "    for item in transaksi[\"detail\"]:\n",
        "        harga_satuan = item[\"harga_satuan\"]\n",
        "        kuantitas = item[\"kuantitas\"]\n",
        "\n",
        "        # Terapkan diskon dan kumpulkan bonus jika ada\n",
        "        harga_setelah_diskon = harga_satuan  # Mulai dari harga awal per unit\n",
        "        for promosi in item[\"promosi\"]:\n",
        "            if promosi[\"jenis\"] == \"Diskon\":\n",
        "                persentase_diskon = promosi[\"persentase\"]\n",
        "                harga_setelah_diskon *= (1 - persentase_diskon / 100)  # Terapkan diskon hanya sekali per unit\n",
        "            elif promosi[\"jenis\"] == \"Bonus\":\n",
        "                bonus_pelanggan[nama_pelanggan].append(promosi[\"item_bonus\"])\n",
        "\n",
        "        # Hitung total harga setelah diskon untuk kuantitas produk ini\n",
        "        total_harga_setelah_diskon = harga_setelah_diskon * kuantitas\n",
        "\n",
        "        # Tambahkan total pembelanjaan setelah diskon untuk produk ini\n",
        "        pembelanjaan_pelanggan[nama_pelanggan] += total_harga_setelah_diskon\n",
        "\n",
        "# Menemukan pelanggan dengan pembelanjaan tertinggi tanpa max()\n",
        "pelanggan_tertinggi = None\n",
        "total_pembelanjaan_tertinggi = 0\n",
        "\n",
        "for pelanggan, total_pembelanjaan in pembelanjaan_pelanggan.items():\n",
        "    if total_pembelanjaan > total_pembelanjaan_tertinggi:\n",
        "        pelanggan_tertinggi = pelanggan\n",
        "        total_pembelanjaan_tertinggi = total_pembelanjaan\n",
        "\n",
        "# Mendapatkan bonus pelanggan dengan pembelanjaan tertinggi\n",
        "bonus_tertinggi = bonus_pelanggan.get(pelanggan_tertinggi, [])\n",
        "\n",
        "# Cetak hasil\n",
        "print(f\"Pelanggan Tertinggi adalah {pelanggan_tertinggi} dengan Total Pembelanjaan adalah {total_pembelanjaan_tertinggi:.2f}\")\n",
        "if bonus_tertinggi:\n",
        "    print(f\"Bonus yang diperoleh: {', '.join(bonus_tertinggi)}\")\n",
        "else:\n",
        "    print(\"Tidak ada bonus yang diperoleh.\")\n"
      ]
    },
    {
      "cell_type": "markdown",
      "metadata": {
        "id": "keQW4lnScaJh"
      },
      "source": [
        "#### MENGGUNAKAN LIST"
      ]
    },
    {
      "cell_type": "code",
      "execution_count": null,
      "metadata": {
        "id": "sGaNCcwBcaJh",
        "outputId": "8524318f-be3f-4b8b-8990-78e5a2ff6eb8"
      },
      "outputs": [
        {
          "name": "stdout",
          "output_type": "stream",
          "text": [
            "Pelanggan Tertinggi adalah Budi dengan Total Pembelanjaan adalah 115000.00\n",
            "Tidak ada bonus yang diperoleh.\n"
          ]
        }
      ],
      "source": [
        "# Inisialisasi list untuk menyimpan data pembelanjaan dan bonus setiap pelanggan\n",
        "pembelanjaan_pelanggan = []\n",
        "bonus_pelanggan = []\n",
        "\n",
        "# Loop melalui setiap transaksi\n",
        "for transaksi in data_penjualan:\n",
        "    nama_pelanggan = transaksi[\"pelanggan\"][\"nama\"]\n",
        "\n",
        "    # Cari pelanggan dalam list atau tambahkan entri baru jika belum ada\n",
        "    pelanggan_data = None\n",
        "    bonus_data = None\n",
        "\n",
        "    # Cek apakah pelanggan sudah ada dalam pembelanjaan_pelanggan\n",
        "    for pelanggan in pembelanjaan_pelanggan:\n",
        "        if pelanggan[\"nama\"] == nama_pelanggan:\n",
        "            pelanggan_data = pelanggan\n",
        "            break\n",
        "    else:\n",
        "        # Jika pelanggan belum ada, tambahkan entri baru\n",
        "        pelanggan_data = {\"nama\": nama_pelanggan, \"total_pembelanjaan\": 0}\n",
        "        pembelanjaan_pelanggan.append(pelanggan_data)\n",
        "\n",
        "    # Cek apakah pelanggan sudah ada dalam bonus_pelanggan\n",
        "    for bonus in bonus_pelanggan:\n",
        "        if bonus[\"nama\"] == nama_pelanggan:\n",
        "            bonus_data = bonus\n",
        "            break\n",
        "    else:\n",
        "        # Jika pelanggan belum ada, tambahkan entri baru untuk bonus\n",
        "        bonus_data = {\"nama\": nama_pelanggan, \"bonus\": []}\n",
        "        bonus_pelanggan.append(bonus_data)\n",
        "\n",
        "    # Loop melalui setiap produk dalam transaksi\n",
        "    for item in transaksi[\"detail\"]:\n",
        "        harga_satuan = item[\"harga_satuan\"]\n",
        "        kuantitas = item[\"kuantitas\"]\n",
        "\n",
        "        # Terapkan diskon jika ada\n",
        "        for promosi in item[\"promosi\"]:\n",
        "            if promosi[\"jenis\"] == \"Diskon\":\n",
        "                persentase_diskon = promosi[\"persentase\"]\n",
        "                harga_satuan *= (1 - persentase_diskon / 100)  # Diskon per unit\n",
        "            elif promosi[\"jenis\"] == \"Bonus\":\n",
        "                bonus_data[\"bonus\"].append(promosi[\"item_bonus\"])\n",
        "\n",
        "        # Hitung total harga setelah diskon untuk kuantitas produk ini\n",
        "        harga_setelah_diskon = harga_satuan * kuantitas\n",
        "\n",
        "        # Tambahkan total pembelanjaan setelah diskon untuk produk ini\n",
        "        pelanggan_data[\"total_pembelanjaan\"] += harga_setelah_diskon\n",
        "\n",
        "# Menemukan pelanggan dengan pembelanjaan tertinggi\n",
        "pelanggan_tertinggi = None\n",
        "total_pembelanjaan_tertinggi = 0\n",
        "bonus_tertinggi = []\n",
        "\n",
        "for pelanggan in pembelanjaan_pelanggan:\n",
        "    if pelanggan[\"total_pembelanjaan\"] > total_pembelanjaan_tertinggi:\n",
        "        pelanggan_tertinggi = pelanggan[\"nama\"]\n",
        "        total_pembelanjaan_tertinggi = pelanggan[\"total_pembelanjaan\"]\n",
        "        # Cari bonus pelanggan tertinggi di list bonus_pelanggan\n",
        "        for bonus in bonus_pelanggan:\n",
        "            if bonus[\"nama\"] == pelanggan_tertinggi:\n",
        "                bonus_tertinggi = bonus[\"bonus\"]\n",
        "                break\n",
        "\n",
        "# Cetak hasil\n",
        "print(f\"Pelanggan Tertinggi adalah {pelanggan_tertinggi} dengan Total Pembelanjaan adalah {total_pembelanjaan_tertinggi:.2f}\")\n",
        "if bonus_tertinggi:\n",
        "    print(f\"Bonus yang diperoleh: {', '.join(bonus_tertinggi)}\")\n",
        "else:\n",
        "    print(\"Tidak ada bonus yang diperoleh.\")\n"
      ]
    },
    {
      "cell_type": "markdown",
      "metadata": {
        "id": "K_iEg2iQcaJi"
      },
      "source": [
        "## SOAL 3"
      ]
    },
    {
      "cell_type": "markdown",
      "metadata": {
        "id": "6n34W7XjcaJj"
      },
      "source": [
        "Analisis Kode\n",
        "Kode yang diberikan memiliki tujuan untuk memeriksa apakah suatu area (border['name']) memenuhi kriteria tertentu berdasarkan koordinat lat dan lng. Namun, kode ini memiliki beberapa ketidaksesuaian dengan kriteria yang diinginkan. Berikut beberapa masalah dalam kode yang diberikan:\n",
        "\n",
        "1. Operator Logika: Pada bagian if -5 <= coord['lat'] <= 5 or 100 <= coord['lng'] <= 110, operator or digunakan, padahal kriteria menyebutkan bahwa jika lat dan lng ada bersamaan, maka keduanya harus memenuhi kriteria (seharusnya menggunakan and).\n",
        "2. Menggunakan continue Bukannya break: continue pada bagian print(f\"Area {border['name']} memenuhi kriteria\") akan menyebabkan loop melanjutkan ke iterasi berikutnya meskipun kriteria telah terpenuhi. Sebaiknya gunakan break untuk menghentikan proses pemeriksaan setelah menemukan koordinat yang memenuhi kriteria.\n",
        "3. Kesalahan Penulisan border['nama']: Di bagian akhir kode, terdapat kesalahan border['nama'], padahal kunci yang benar adalah name."
      ]
    },
    {
      "cell_type": "code",
      "execution_count": null,
      "metadata": {
        "id": "VQU35UY2caJj",
        "outputId": "c94a0128-626e-4f53-9151-57eb966098f6"
      },
      "outputs": [
        {
          "name": "stdout",
          "output_type": "stream",
          "text": [
            "Area border_1 memenuhi kriteria\n",
            "Area border_2 memenuhi kriteria\n"
          ]
        }
      ],
      "source": [
        "dataBaru = [\n",
        "    {\n",
        "        \"name\": \"border_1\",\n",
        "        \"coordinates\": [\n",
        "            {\"lat\": -3.1, \"lng\": 100.1},\n",
        "            {\"lat\": -5.2, \"lng\": 100.1},\n",
        "            {\"lat\": 4.2, \"lng\": 102.1, \"others\": \"yy\"}\n",
        "        ]\n",
        "    },\n",
        "    {\n",
        "        \"name\": \"border_2\",\n",
        "        \"coordinates\": [\n",
        "            {\"lat\": 3.1, \"lng\": 109.1},\n",
        "            {\"lat\": -3.2, \"lng\": 120.1},\n",
        "            {\"lat\": 3.2, \"lng\": 109.1, \"others\": \"xx\"}\n",
        "        ]\n",
        "    }\n",
        "]\n",
        "\n",
        "# Memeriksa apakah area memenuhi kriteria\n",
        "for border in dataBaru:\n",
        "    memenuhi_kriteria = False  # Flag untuk melacak apakah area memenuhi kriteria\n",
        "\n",
        "    for coord in border['coordinates']:\n",
        "        # Jika lat dan lng ada bersamaan, keduanya harus memenuhi kriteria dengan logika and\n",
        "        if \"lat\" in coord.keys() and \"lng\" in coord.keys():\n",
        "            if -5 <= coord['lat'] <= 5 and 100 <= coord['lng'] <= 110:\n",
        "                print(f\"Area {border['name']} memenuhi kriteria\")\n",
        "                memenuhi_kriteria = True\n",
        "                break  # Keluar dari loop karena kriteria sudah terpenuhi\n",
        "\n",
        "        # Jika hanya lat yang ada, periksa apakah memenuhi kriteria\n",
        "        elif \"lat\" in coord.keys() and -5 <= coord['lat'] <= 5:\n",
        "            print(f\"Area {border['name']} memenuhi kriteria\")\n",
        "            memenuhi_kriteria = True\n",
        "            break\n",
        "\n",
        "        # Jika hanya lng yang ada, periksa apakah memenuhi kriteria\n",
        "        elif \"lng\" in coord.keys() and 100 <= coord['lng'] <= 110:\n",
        "            print(f\"Area {border['name']} memenuhi kriteria\")\n",
        "            memenuhi_kriteria = True\n",
        "            break\n",
        "\n",
        "        else:\n",
        "            pass\n",
        "\n",
        "    # Jika tidak ada koordinat yang memenuhi kriteria untuk area ini\n",
        "    if not memenuhi_kriteria:\n",
        "        print(f\"Area {border['name']} tidak memenuhi kriteria\")\n"
      ]
    },
    {
      "cell_type": "markdown",
      "metadata": {
        "id": "TNYovAeYcaJk"
      },
      "source": [
        "Penjelasan Kode yang Diperbaiki\n",
        "1. Logika Pemeriksaan lat dan lng Bersamaan: Pada bagian if \"lat\" in coord.keys() and \"lng\" in coord.keys(), logika and digunakan untuk memastikan bahwa jika lat dan lng ada bersamaan, keduanya harus memenuhi kriteria yang ditentukan.\n",
        "\n",
        "2. Penggunaan break: Jika suatu koordinat dalam coordinates memenuhi kriteria, maka break digunakan untuk menghentikan pemeriksaan lebih lanjut pada koordinat berikutnya, karena area tersebut sudah dianggap memenuhi kriteria.\n",
        "\n",
        "3. Memperbaiki Penulisan border['nama']: Bagian border['nama'] diganti menjadi border['name'] agar sesuai dengan kunci dictionary yang ada.\n",
        "\n",
        "4. Penggunaan not untuk Pemeriksaan memenuhi_kriteria: Pada akhir setiap loop for border, kode if not memenuhi_kriteria digunakan untuk memastikan bahwa jika tidak ada koordinat yang memenuhi kriteria, pesan Area {border['name']} tidak memenuhi kriteria akan dicetak."
      ]
    },
    {
      "cell_type": "code",
      "execution_count": null,
      "metadata": {
        "id": "8ywX8Tn6caJk"
      },
      "outputs": [],
      "source": []
    },
    {
      "cell_type": "code",
      "execution_count": null,
      "metadata": {
        "id": "Dtxa0_tvcaJk"
      },
      "outputs": [],
      "source": []
    }
  ],
  "metadata": {
    "kernelspec": {
      "display_name": ".venv",
      "language": "python",
      "name": "python3"
    },
    "language_info": {
      "codemirror_mode": {
        "name": "ipython",
        "version": 3
      },
      "file_extension": ".py",
      "mimetype": "text/x-python",
      "name": "python",
      "nbconvert_exporter": "python",
      "pygments_lexer": "ipython3",
      "version": "3.9.6"
    },
    "colab": {
      "provenance": [],
      "include_colab_link": true
    }
  },
  "nbformat": 4,
  "nbformat_minor": 0
}